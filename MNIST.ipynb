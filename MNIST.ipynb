{
 "cells": [
  {
   "cell_type": "code",
   "execution_count": 16,
   "id": "10789481",
   "metadata": {
    "scrolled": true
   },
   "outputs": [],
   "source": [
    "import numpy as np\n",
    "import tensorflow as tf\n",
    "import tensorflow_datasets as tfds"
   ]
  },
  {
   "cell_type": "code",
   "execution_count": 35,
   "id": "ea0b2943",
   "metadata": {},
   "outputs": [
    {
     "name": "stderr",
     "output_type": "stream",
     "text": [
      "2022-10-29 18:05:59.854006: W tensorflow/core/kernels/data/cache_dataset_ops.cc:856] The calling iterator did not fully read the dataset being cached. In order to avoid unexpected truncation of the dataset, the partially cached contents of the dataset  will be discarded. This can happen if you have an input pipeline similar to `dataset.cache().take(k).repeat()`. You should use `dataset.take(k).cache().repeat()` instead.\n"
     ]
    }
   ],
   "source": [
    "mnist_dataset,mnist_info=tfds.load(name='mnist',as_supervised=True,with_info=True)\n",
    "\n",
    "minst_train=mnist_dataset['train']\n",
    "mnist_test=mnist_dataset['test']\n",
    "\n",
    "num_validation_samples=0.1*mnist_info.splits['test'].num_examples\n",
    "num_validation_samples=tf.cast(num_validation_samples,tf.int64)\n",
    "\n",
    "num_test_samples=mnist_info.splits['test'].num_examples\n",
    "num_test_samples\n",
    "\n",
    "def scale(image,label):\n",
    "    image=tf.cast(image,tf.float64)\n",
    "    image /= 255.\n",
    "    return image, label\n",
    "\n",
    "scaled_train_validation_data=mnist_train.map(scale)\n",
    "\n",
    "scaled_test_data=mnist_test.map(scale)\n",
    "\n",
    "BUFFER_SIZE=10000\n",
    "\n",
    "shuffled_train_validation=scaled_train_validation_data.shuffle(BUFFER_SIZE)\n",
    "\n",
    "validation_data=shuffled_train_validation.take(num_validation_samples)\n",
    "train_data=shuffled_train_validation.skip(num_validation_samples)\n",
    "\n",
    "BATCH_SIZE = 100\n",
    "\n",
    "train_data=train_data.batch(BATCH_SIZE)\n",
    "\n",
    "##Giving the total num of validation data to take it as whole instead of batching\n",
    "validation_data=validation_data.batch(num_validation_samples)\n",
    "\n",
    "test_data=scaled_test_data.batch(num_test_samples)\n",
    "\n",
    "validation_inputs, validation_targets = next(iter(validation_data))"
   ]
  },
  {
   "cell_type": "code",
   "execution_count": 52,
   "id": "8a03a391",
   "metadata": {},
   "outputs": [],
   "source": [
    "input_layer=28*28\n",
    "hidden_layer=100\n",
    "output_layer=10\n",
    "\n",
    "model=tf.keras.Sequential([\n",
    "    tf.keras.layers.Flatten(input_shape=(28,28,1)),\n",
    "    tf.keras.layers.Dense(hidden_layer,activation='relu'),\n",
    "    tf.keras.layers.Dense(hidden_layer,activation='tanh'),\n",
    "    tf.keras.layers.Dense(output_layer,activation='softmax')\n",
    "])\n"
   ]
  },
  {
   "cell_type": "markdown",
   "id": "044303df",
   "metadata": {},
   "source": [
    "### Choose the optimizer and Loss Function"
   ]
  },
  {
   "cell_type": "code",
   "execution_count": 53,
   "id": "e5a4ebe3",
   "metadata": {},
   "outputs": [],
   "source": [
    "adam=tf.keras.optimizers.Adam(learning_rate=0.002)\n",
    "model.compile(optimizer=adam,loss='sparse_categorical_crossentropy',metrics=['accuracy'])"
   ]
  },
  {
   "cell_type": "markdown",
   "id": "b7c1a75d",
   "metadata": {},
   "source": [
    "## Training"
   ]
  },
  {
   "cell_type": "code",
   "execution_count": 54,
   "id": "58d363a9",
   "metadata": {},
   "outputs": [
    {
     "name": "stdout",
     "output_type": "stream",
     "text": [
      "Epoch 1/5\n",
      "590/590 - 5s - loss: 0.2431 - accuracy: 0.9284 - val_loss: 0.1164 - val_accuracy: 0.9710 - 5s/epoch - 9ms/step\n",
      "Epoch 2/5\n",
      "590/590 - 3s - loss: 0.1031 - accuracy: 0.9683 - val_loss: 0.1044 - val_accuracy: 0.9710 - 3s/epoch - 5ms/step\n",
      "Epoch 3/5\n",
      "590/590 - 3s - loss: 0.0716 - accuracy: 0.9772 - val_loss: 0.0589 - val_accuracy: 0.9850 - 3s/epoch - 5ms/step\n",
      "Epoch 4/5\n",
      "590/590 - 5s - loss: 0.0542 - accuracy: 0.9830 - val_loss: 0.0509 - val_accuracy: 0.9840 - 5s/epoch - 9ms/step\n",
      "Epoch 5/5\n",
      "590/590 - 12s - loss: 0.0436 - accuracy: 0.9863 - val_loss: 0.0374 - val_accuracy: 0.9850 - 12s/epoch - 21ms/step\n"
     ]
    },
    {
     "data": {
      "text/plain": [
       "<keras.callbacks.History at 0x7fca8960d9a0>"
      ]
     },
     "execution_count": 54,
     "metadata": {},
     "output_type": "execute_result"
    }
   ],
   "source": [
    "NUM_EPOCHS = 5\n",
    "\n",
    "model.fit(train_data,epochs=NUM_EPOCHS,validation_data=(validation_inputs,validation_targets),verbose=2)"
   ]
  },
  {
   "cell_type": "code",
   "execution_count": 55,
   "id": "b746bae5",
   "metadata": {},
   "outputs": [
    {
     "name": "stdout",
     "output_type": "stream",
     "text": [
      "1/1 [==============================] - 0s 245ms/step - loss: 0.0688 - accuracy: 0.9794\n"
     ]
    },
    {
     "name": "stderr",
     "output_type": "stream",
     "text": [
      "2022-10-29 18:47:09.159104: W tensorflow/core/framework/cpu_allocator_impl.cc:82] Allocation of 62720000 exceeds 10% of free system memory.\n"
     ]
    }
   ],
   "source": [
    "test_loss,test_accuracy=model.evaluate(test_data)"
   ]
  },
  {
   "cell_type": "code",
   "execution_count": null,
   "id": "ada3de5a",
   "metadata": {},
   "outputs": [],
   "source": []
  }
 ],
 "metadata": {
  "kernelspec": {
   "display_name": "Python 3 (ipykernel)",
   "language": "python",
   "name": "python3"
  },
  "language_info": {
   "codemirror_mode": {
    "name": "ipython",
    "version": 3
   },
   "file_extension": ".py",
   "mimetype": "text/x-python",
   "name": "python",
   "nbconvert_exporter": "python",
   "pygments_lexer": "ipython3",
   "version": "3.9.12"
  }
 },
 "nbformat": 4,
 "nbformat_minor": 5
}
