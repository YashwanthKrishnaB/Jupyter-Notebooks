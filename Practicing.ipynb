{
 "cells": [
  {
   "cell_type": "code",
   "execution_count": 35,
   "id": "95875127",
   "metadata": {},
   "outputs": [],
   "source": [
    "aList=['v','u','42','3423,4234,24,234,2342,3423,4']"
   ]
  },
  {
   "cell_type": "code",
   "execution_count": 68,
   "id": "f9086bdd",
   "metadata": {},
   "outputs": [
    {
     "data": {
      "text/plain": [
       "['v', 'u', '42', '3423,4234,24,234,2342,3423,4']"
      ]
     },
     "execution_count": 68,
     "metadata": {},
     "output_type": "execute_result"
    }
   ],
   "source": [
    "aList.sort(reverse=True)\n",
    "aList"
   ]
  },
  {
   "cell_type": "code",
   "execution_count": 69,
   "id": "0c6377c9",
   "metadata": {},
   "outputs": [
    {
     "data": {
      "text/plain": [
       "tuple"
      ]
     },
     "execution_count": 69,
     "metadata": {},
     "output_type": "execute_result"
    }
   ],
   "source": [
    "a=(1,2,3,4)\n",
    "type(a)"
   ]
  },
  {
   "cell_type": "code",
   "execution_count": 71,
   "id": "5b03b103",
   "metadata": {},
   "outputs": [
    {
     "name": "stdout",
     "output_type": "stream",
     "text": [
      "['v']\n",
      "['u']\n",
      "['42']\n",
      "['3423', '4234', '24', '234', '2342', '3423', '4']\n"
     ]
    }
   ],
   "source": [
    "for a in aList:\n",
    "    print(a.split(','))"
   ]
  },
  {
   "cell_type": "code",
   "execution_count": 78,
   "id": "7a42d6d2",
   "metadata": {},
   "outputs": [
    {
     "data": {
      "text/plain": [
       "[0, 1, 2, 3, 4, 5, 6, 7, 8, 9]"
      ]
     },
     "execution_count": 78,
     "metadata": {},
     "output_type": "execute_result"
    }
   ],
   "source": [
    "list(range(10))"
   ]
  },
  {
   "cell_type": "code",
   "execution_count": 91,
   "id": "d9f3d0f0",
   "metadata": {},
   "outputs": [
    {
     "data": {
      "text/plain": [
       "'sedfasdfg'"
      ]
     },
     "execution_count": 91,
     "metadata": {},
     "output_type": "execute_result"
    }
   ],
   "source": [
    "ict={1:'sedf',2:'asdfg'}\n",
    "type(ict)\n",
    "def addAllInDict(dictionary):\n",
    "    a=''\n",
    "    for i in range(1,3):\n",
    "        a+=dictionary[i]\n",
    "    return a\n",
    "addAllInDict(ict)"
   ]
  },
  {
   "cell_type": "code",
   "execution_count": 96,
   "id": "3f01210a",
   "metadata": {},
   "outputs": [
    {
     "name": "stderr",
     "output_type": "stream",
     "text": [
      "IOPub data rate exceeded.\n",
      "The notebook server will temporarily stop sending output\n",
      "to the client in order to avoid crashing it.\n",
      "To change this limit, set the config variable\n",
      "`--NotebookApp.iopub_data_rate_limit`.\n",
      "\n",
      "Current values:\n",
      "NotebookApp.iopub_data_rate_limit=1000000.0 (bytes/sec)\n",
      "NotebookApp.rate_limit_window=3.0 (secs)\n",
      "\n"
     ]
    }
   ],
   "source": [
    "import pandas\n",
    "help(pandas)"
   ]
  }
 ],
 "metadata": {
  "kernelspec": {
   "display_name": "Python 3 (ipykernel)",
   "language": "python",
   "name": "python3"
  },
  "language_info": {
   "codemirror_mode": {
    "name": "ipython",
    "version": 3
   },
   "file_extension": ".py",
   "mimetype": "text/x-python",
   "name": "python",
   "nbconvert_exporter": "python",
   "pygments_lexer": "ipython3",
   "version": "3.9.12"
  }
 },
 "nbformat": 4,
 "nbformat_minor": 5
}
