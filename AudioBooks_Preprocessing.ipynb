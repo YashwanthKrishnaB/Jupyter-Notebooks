{
 "cells": [
  {
   "cell_type": "code",
   "execution_count": 31,
   "id": "085f9351",
   "metadata": {},
   "outputs": [
    {
     "data": {
      "text/plain": [
       "2237.0"
      ]
     },
     "execution_count": 31,
     "metadata": {},
     "output_type": "execute_result"
    }
   ],
   "source": [
    "import numpy as np\n",
    "from sklearn import preprocessing\n",
    "import pandas as pd\n",
    "raw_csv=np.loadtxt('Audiobooks-data.csv',delimiter=',')\n",
    "unscaled_input=raw_csv[:,1:-1]\n",
    "target=raw_csv[:,-1]\n",
    "df=pd.DataFrame(unscaled_input)\n",
    "target_df=pd.DataFrame(target)\n",
    "np.sum(target)"
   ]
  },
  {
   "cell_type": "markdown",
   "id": "f8f26ed7",
   "metadata": {},
   "source": [
    "## Shuffle Data"
   ]
  },
  {
   "cell_type": "code",
   "execution_count": 32,
   "id": "dad05569",
   "metadata": {},
   "outputs": [],
   "source": [
    "# unsc\n",
    "shuffled_indices=np.arange(unscaled_input.shape[0])\n",
    "np.random.shuffle(shuffled_indices)\n",
    "shuffled_inputs=unscaled_input[shuffled_indices]\n",
    "shuffled_target=target[shuffled_indices]"
   ]
  },
  {
   "cell_type": "markdown",
   "id": "962dce31",
   "metadata": {},
   "source": [
    "## Balance the DataSet"
   ]
  },
  {
   "cell_type": "code",
   "execution_count": 42,
   "id": "4ccdbbb0",
   "metadata": {},
   "outputs": [
    {
     "data": {
      "text/plain": [
       "array([0., 1., 0., ..., 1., 1., 1.])"
      ]
     },
     "execution_count": 42,
     "metadata": {},
     "output_type": "execute_result"
    }
   ],
   "source": [
    "num_one_targets=np.sum(target)\n",
    "zeros=0\n",
    "indices_to_remove=[]\n",
    "\n",
    "for i in range(shuffled_target.shape[0]):\n",
    "    if shuffled_target[i]==0:\n",
    "        zeros+=1\n",
    "        if zeros>num_one_targets:\n",
    "            indices_to_remove.append(i)\n",
    "        \n",
    "unscaled_inputs_balanced=np.delete(shuffled_inputs,indices_to_remove,axis=0)\n",
    "target_balanced=np.delete(shuffled_target,indices_to_remove,axis=0)"
   ]
  },
  {
   "cell_type": "code",
   "execution_count": 45,
   "id": "8d8f312c",
   "metadata": {},
   "outputs": [],
   "source": [
    "# unsc\n",
    "shuffled_indices=np.arange(unscaled_inputs_balanced.shape[0])\n",
    "np.random.shuffle(shuffled_indices)\n",
    "unscaled_inputs_balanced=unscaled_inputs_balanced[shuffled_indices]\n",
    "target_balanced=target_balanced[shuffled_indices]"
   ]
  },
  {
   "cell_type": "markdown",
   "id": "988eb9c6",
   "metadata": {},
   "source": [
    "## Standardize Input\n"
   ]
  },
  {
   "cell_type": "code",
   "execution_count": 46,
   "id": "7840943f",
   "metadata": {},
   "outputs": [],
   "source": [
    "scaled_input=preprocessing.scale(unscaled_inputs_balanced)"
   ]
  },
  {
   "cell_type": "markdown",
   "id": "d04de9ac",
   "metadata": {},
   "source": [
    "## Split Train Validation Test"
   ]
  },
  {
   "cell_type": "code",
   "execution_count": 47,
   "id": "c53bfde1",
   "metadata": {},
   "outputs": [
    {
     "name": "stdout",
     "output_type": "stream",
     "text": [
      "1779.0 3579 0.49706621961441744\n",
      "228.0 447 0.5100671140939598\n",
      "230.0 448 0.5133928571428571\n"
     ]
    }
   ],
   "source": [
    "samples_count=scaled_input.shape[0]\n",
    "\n",
    "validation_size=int(0.1*samples_count)\n",
    "train_size=int(0.8*samples_count)\n",
    "test_size=samples_count-train_size-validation_size\n",
    "# print(validation_size,train_size,test_size)\n",
    "train_data=scaled_input[validation_size+test_size:]\n",
    "train_targets=target_balanced[validation_size+test_size:]\n",
    "\n",
    "validation_data=scaled_input[:validation_size]\n",
    "validation_targets=target_balanced[:validation_size]\n",
    "\n",
    "test_data=scaled_input[validation_size:validation_size+test_size]\n",
    "test_targets=target_balanced[validation_size:validation_size+test_size]\n",
    "\n",
    "# pd.DataFrame(validation_targets)\n",
    "\n",
    "print(np.sum(train_targets),train_size,np.sum(train_targets)/train_size)\n",
    "print(np.sum(validation_targets),validation_size,np.sum(validation_targets)/validation_size)\n",
    "print(np.sum(test_targets),test_size,np.sum(test_targets)/test_size)\n"
   ]
  },
  {
   "cell_type": "markdown",
   "id": "965ccfcb",
   "metadata": {},
   "source": [
    "### Save three datasets in *.npz"
   ]
  },
  {
   "cell_type": "code",
   "execution_count": 48,
   "id": "02425ac9",
   "metadata": {},
   "outputs": [],
   "source": [
    "np.savez('Audiobooks_data_train',inputs=train_data,targets=train_targets)\n",
    "np.savez('Audiobooks_data_validation',inputs=validation_data,targets=validation_targets)\n",
    "np.savez('Audiobooks_data_test',inputs=test_data,targets=test_targets)"
   ]
  },
  {
   "cell_type": "code",
   "execution_count": 49,
   "id": "18ae6ac5",
   "metadata": {
    "scrolled": true
   },
   "outputs": [
    {
     "name": "stdout",
     "output_type": "stream",
     "text": [
      " 29588026-Simple-Linear-Regression-Exercise.ipynb\r\n",
      " 29588090-1.03.Dummies.csv\r\n",
      " 29588130-real-estate-price-size-year-view.csv\r\n",
      " adjustedRSquare.py\r\n",
      " Audiobooks-data.csv\r\n",
      " Audiobooks_data_test.npz\r\n",
      " Audiobooks_data_train.npz\r\n",
      " Audiobooks_data_validation.npz\r\n",
      " AudioBooks_Preprocessing.ipynb\r\n",
      " Classification.ipynb\r\n",
      " code\r\n",
      "'Data Dictionary.xlsx'\r\n",
      " data-provisional.csv\r\n",
      " data-training.csv\r\n",
      "'data-training.csv (2)'\r\n",
      " heart.csv\r\n",
      " images\r\n",
      "'Linear Regression.ipynb'\r\n",
      " MatrixMultiplication.ipynb\r\n",
      " MNIST.ipynb\r\n",
      " Multiple-linear-regression.csv\r\n",
      " Multiple_LinearRegression.ipynb\r\n",
      " MultipleLR.ipynb\r\n",
      " NN.ipynb\r\n",
      " pima-indians-diabetes.csv\r\n",
      " pima-indians-diabetes.ipynb\r\n",
      " practicing.ipynb\r\n",
      " __pycache__\r\n",
      " README.md\r\n",
      " real_estate_price_size.csv\r\n",
      " Real-life-example.csv\r\n",
      " simple-linear-regression.csv\r\n",
      " solution\r\n",
      " topcoder\r\n"
     ]
    }
   ],
   "source": [
    "!ls"
   ]
  }
 ],
 "metadata": {
  "kernelspec": {
   "display_name": "Python 3 (ipykernel)",
   "language": "python",
   "name": "python3"
  },
  "language_info": {
   "codemirror_mode": {
    "name": "ipython",
    "version": 3
   },
   "file_extension": ".py",
   "mimetype": "text/x-python",
   "name": "python",
   "nbconvert_exporter": "python",
   "pygments_lexer": "ipython3",
   "version": "3.9.12"
  }
 },
 "nbformat": 4,
 "nbformat_minor": 5
}
