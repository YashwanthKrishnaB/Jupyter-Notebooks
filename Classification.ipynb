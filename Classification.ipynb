{
 "cells": [
  {
   "cell_type": "code",
   "execution_count": 1,
   "id": "5bf5d812",
   "metadata": {},
   "outputs": [],
   "source": [
    "import warnings\n",
    "warnings.filterwarnings('ignore')"
   ]
  },
  {
   "cell_type": "code",
   "execution_count": 69,
   "id": "d5236723",
   "metadata": {},
   "outputs": [],
   "source": [
    "import numpy as np\n",
    "import pandas as pd\n",
    "import matplotlib.pyplot as plt\n",
    "import seaborn as sns\n",
    "sns.set()\n",
    "from sklearn.linear_model import LogisticRegression\n",
    "from sklearn.naive_bayes import BernoulliNB\n",
    "from sklearn.neighbors import KNeighborsClassifier\n",
    "from sklearn.tree import DecisionTreeClassifier\n",
    "from sklearn.ensemble import AdaBoostClassifier,RandomForestClassifier,GradientBoostingClassifier\n",
    "from sklearn.svm import SVC\n",
    "\n",
    "from sklearn.preprocessing import StandardScaler,LabelEncoder\n",
    "from sklearn.model_selection import train_test_split,GridSearchCV\n",
    "\n",
    "from sklearn.metrics import accuracy_score,classification_report,confusion_matrix"
   ]
  },
  {
   "cell_type": "code",
   "execution_count": 28,
   "id": "82709a4b",
   "metadata": {},
   "outputs": [
    {
     "data": {
      "text/html": [
       "<div>\n",
       "<style scoped>\n",
       "    .dataframe tbody tr th:only-of-type {\n",
       "        vertical-align: middle;\n",
       "    }\n",
       "\n",
       "    .dataframe tbody tr th {\n",
       "        vertical-align: top;\n",
       "    }\n",
       "\n",
       "    .dataframe thead th {\n",
       "        text-align: right;\n",
       "    }\n",
       "</style>\n",
       "<table border=\"1\" class=\"dataframe\">\n",
       "  <thead>\n",
       "    <tr style=\"text-align: right;\">\n",
       "      <th></th>\n",
       "      <th>age</th>\n",
       "      <th>sex</th>\n",
       "      <th>cp</th>\n",
       "      <th>trestbps</th>\n",
       "      <th>chol</th>\n",
       "      <th>fbs</th>\n",
       "      <th>restecg</th>\n",
       "      <th>thalach</th>\n",
       "      <th>exang</th>\n",
       "      <th>oldpeak</th>\n",
       "      <th>slope</th>\n",
       "      <th>ca</th>\n",
       "      <th>thal</th>\n",
       "      <th>target</th>\n",
       "    </tr>\n",
       "  </thead>\n",
       "  <tbody>\n",
       "    <tr>\n",
       "      <th>0</th>\n",
       "      <td>63</td>\n",
       "      <td>1</td>\n",
       "      <td>3</td>\n",
       "      <td>145</td>\n",
       "      <td>233</td>\n",
       "      <td>1</td>\n",
       "      <td>0</td>\n",
       "      <td>150</td>\n",
       "      <td>0</td>\n",
       "      <td>2.3</td>\n",
       "      <td>0</td>\n",
       "      <td>0</td>\n",
       "      <td>1</td>\n",
       "      <td>1</td>\n",
       "    </tr>\n",
       "    <tr>\n",
       "      <th>1</th>\n",
       "      <td>37</td>\n",
       "      <td>1</td>\n",
       "      <td>2</td>\n",
       "      <td>130</td>\n",
       "      <td>250</td>\n",
       "      <td>0</td>\n",
       "      <td>1</td>\n",
       "      <td>187</td>\n",
       "      <td>0</td>\n",
       "      <td>3.5</td>\n",
       "      <td>0</td>\n",
       "      <td>0</td>\n",
       "      <td>2</td>\n",
       "      <td>1</td>\n",
       "    </tr>\n",
       "    <tr>\n",
       "      <th>2</th>\n",
       "      <td>41</td>\n",
       "      <td>0</td>\n",
       "      <td>1</td>\n",
       "      <td>130</td>\n",
       "      <td>204</td>\n",
       "      <td>0</td>\n",
       "      <td>0</td>\n",
       "      <td>172</td>\n",
       "      <td>0</td>\n",
       "      <td>1.4</td>\n",
       "      <td>2</td>\n",
       "      <td>0</td>\n",
       "      <td>2</td>\n",
       "      <td>1</td>\n",
       "    </tr>\n",
       "    <tr>\n",
       "      <th>3</th>\n",
       "      <td>56</td>\n",
       "      <td>1</td>\n",
       "      <td>1</td>\n",
       "      <td>120</td>\n",
       "      <td>236</td>\n",
       "      <td>0</td>\n",
       "      <td>1</td>\n",
       "      <td>178</td>\n",
       "      <td>0</td>\n",
       "      <td>0.8</td>\n",
       "      <td>2</td>\n",
       "      <td>0</td>\n",
       "      <td>2</td>\n",
       "      <td>1</td>\n",
       "    </tr>\n",
       "    <tr>\n",
       "      <th>4</th>\n",
       "      <td>57</td>\n",
       "      <td>0</td>\n",
       "      <td>0</td>\n",
       "      <td>120</td>\n",
       "      <td>354</td>\n",
       "      <td>0</td>\n",
       "      <td>1</td>\n",
       "      <td>163</td>\n",
       "      <td>1</td>\n",
       "      <td>0.6</td>\n",
       "      <td>2</td>\n",
       "      <td>0</td>\n",
       "      <td>2</td>\n",
       "      <td>1</td>\n",
       "    </tr>\n",
       "    <tr>\n",
       "      <th>...</th>\n",
       "      <td>...</td>\n",
       "      <td>...</td>\n",
       "      <td>...</td>\n",
       "      <td>...</td>\n",
       "      <td>...</td>\n",
       "      <td>...</td>\n",
       "      <td>...</td>\n",
       "      <td>...</td>\n",
       "      <td>...</td>\n",
       "      <td>...</td>\n",
       "      <td>...</td>\n",
       "      <td>...</td>\n",
       "      <td>...</td>\n",
       "      <td>...</td>\n",
       "    </tr>\n",
       "    <tr>\n",
       "      <th>298</th>\n",
       "      <td>57</td>\n",
       "      <td>0</td>\n",
       "      <td>0</td>\n",
       "      <td>140</td>\n",
       "      <td>241</td>\n",
       "      <td>0</td>\n",
       "      <td>1</td>\n",
       "      <td>123</td>\n",
       "      <td>1</td>\n",
       "      <td>0.2</td>\n",
       "      <td>1</td>\n",
       "      <td>0</td>\n",
       "      <td>3</td>\n",
       "      <td>0</td>\n",
       "    </tr>\n",
       "    <tr>\n",
       "      <th>299</th>\n",
       "      <td>45</td>\n",
       "      <td>1</td>\n",
       "      <td>3</td>\n",
       "      <td>110</td>\n",
       "      <td>264</td>\n",
       "      <td>0</td>\n",
       "      <td>1</td>\n",
       "      <td>132</td>\n",
       "      <td>0</td>\n",
       "      <td>1.2</td>\n",
       "      <td>1</td>\n",
       "      <td>0</td>\n",
       "      <td>3</td>\n",
       "      <td>0</td>\n",
       "    </tr>\n",
       "    <tr>\n",
       "      <th>300</th>\n",
       "      <td>68</td>\n",
       "      <td>1</td>\n",
       "      <td>0</td>\n",
       "      <td>144</td>\n",
       "      <td>193</td>\n",
       "      <td>1</td>\n",
       "      <td>1</td>\n",
       "      <td>141</td>\n",
       "      <td>0</td>\n",
       "      <td>3.4</td>\n",
       "      <td>1</td>\n",
       "      <td>2</td>\n",
       "      <td>3</td>\n",
       "      <td>0</td>\n",
       "    </tr>\n",
       "    <tr>\n",
       "      <th>301</th>\n",
       "      <td>57</td>\n",
       "      <td>1</td>\n",
       "      <td>0</td>\n",
       "      <td>130</td>\n",
       "      <td>131</td>\n",
       "      <td>0</td>\n",
       "      <td>1</td>\n",
       "      <td>115</td>\n",
       "      <td>1</td>\n",
       "      <td>1.2</td>\n",
       "      <td>1</td>\n",
       "      <td>1</td>\n",
       "      <td>3</td>\n",
       "      <td>0</td>\n",
       "    </tr>\n",
       "    <tr>\n",
       "      <th>302</th>\n",
       "      <td>57</td>\n",
       "      <td>0</td>\n",
       "      <td>1</td>\n",
       "      <td>130</td>\n",
       "      <td>236</td>\n",
       "      <td>0</td>\n",
       "      <td>0</td>\n",
       "      <td>174</td>\n",
       "      <td>0</td>\n",
       "      <td>0.0</td>\n",
       "      <td>1</td>\n",
       "      <td>1</td>\n",
       "      <td>2</td>\n",
       "      <td>0</td>\n",
       "    </tr>\n",
       "  </tbody>\n",
       "</table>\n",
       "<p>303 rows × 14 columns</p>\n",
       "</div>"
      ],
      "text/plain": [
       "     age  sex  cp  trestbps  chol  fbs  restecg  thalach  exang  oldpeak  \\\n",
       "0     63    1   3       145   233    1        0      150      0      2.3   \n",
       "1     37    1   2       130   250    0        1      187      0      3.5   \n",
       "2     41    0   1       130   204    0        0      172      0      1.4   \n",
       "3     56    1   1       120   236    0        1      178      0      0.8   \n",
       "4     57    0   0       120   354    0        1      163      1      0.6   \n",
       "..   ...  ...  ..       ...   ...  ...      ...      ...    ...      ...   \n",
       "298   57    0   0       140   241    0        1      123      1      0.2   \n",
       "299   45    1   3       110   264    0        1      132      0      1.2   \n",
       "300   68    1   0       144   193    1        1      141      0      3.4   \n",
       "301   57    1   0       130   131    0        1      115      1      1.2   \n",
       "302   57    0   1       130   236    0        0      174      0      0.0   \n",
       "\n",
       "     slope  ca  thal  target  \n",
       "0        0   0     1       1  \n",
       "1        0   0     2       1  \n",
       "2        2   0     2       1  \n",
       "3        2   0     2       1  \n",
       "4        2   0     2       1  \n",
       "..     ...  ..   ...     ...  \n",
       "298      1   0     3       0  \n",
       "299      1   0     3       0  \n",
       "300      1   2     3       0  \n",
       "301      1   1     3       0  \n",
       "302      1   1     2       0  \n",
       "\n",
       "[303 rows x 14 columns]"
      ]
     },
     "execution_count": 28,
     "metadata": {},
     "output_type": "execute_result"
    }
   ],
   "source": [
    "data=pd.read_csv('heart.csv')\n",
    "data"
   ]
  },
  {
   "cell_type": "code",
   "execution_count": 29,
   "id": "8d81d3c6",
   "metadata": {},
   "outputs": [
    {
     "name": "stdout",
     "output_type": "stream",
     "text": [
      "<class 'pandas.core.frame.DataFrame'>\n",
      "RangeIndex: 303 entries, 0 to 302\n",
      "Data columns (total 14 columns):\n",
      " #   Column    Non-Null Count  Dtype  \n",
      "---  ------    --------------  -----  \n",
      " 0   age       303 non-null    int64  \n",
      " 1   sex       303 non-null    int64  \n",
      " 2   cp        303 non-null    int64  \n",
      " 3   trestbps  303 non-null    int64  \n",
      " 4   chol      303 non-null    int64  \n",
      " 5   fbs       303 non-null    int64  \n",
      " 6   restecg   303 non-null    int64  \n",
      " 7   thalach   303 non-null    int64  \n",
      " 8   exang     303 non-null    int64  \n",
      " 9   oldpeak   303 non-null    float64\n",
      " 10  slope     303 non-null    int64  \n",
      " 11  ca        303 non-null    int64  \n",
      " 12  thal      303 non-null    int64  \n",
      " 13  target    303 non-null    int64  \n",
      "dtypes: float64(1), int64(13)\n",
      "memory usage: 33.3 KB\n"
     ]
    }
   ],
   "source": [
    "data.info()"
   ]
  },
  {
   "cell_type": "code",
   "execution_count": 30,
   "id": "be5a7a38",
   "metadata": {},
   "outputs": [
    {
     "data": {
      "text/plain": [
       "{'age': 41,\n",
       " 'sex': 2,\n",
       " 'cp': 4,\n",
       " 'trestbps': 49,\n",
       " 'chol': 152,\n",
       " 'fbs': 2,\n",
       " 'restecg': 3,\n",
       " 'thalach': 91,\n",
       " 'exang': 2,\n",
       " 'oldpeak': 40,\n",
       " 'slope': 3,\n",
       " 'ca': 5,\n",
       " 'thal': 4,\n",
       " 'target': 2}"
      ]
     },
     "execution_count": 30,
     "metadata": {},
     "output_type": "execute_result"
    }
   ],
   "source": [
    "unique={col:data[col].nunique() for col in data.columns}\n",
    "unique"
   ]
  },
  {
   "cell_type": "code",
   "execution_count": 31,
   "id": "a2e32b61",
   "metadata": {},
   "outputs": [
    {
     "data": {
      "text/plain": [
       "{'age', 'chol', 'oldpeak', 'thalach', 'trestbps'}"
      ]
     },
     "execution_count": 31,
     "metadata": {},
     "output_type": "execute_result"
    }
   ],
   "source": [
    "cont={i for i,j in unique.items() if j>5}\n",
    "cont"
   ]
  },
  {
   "cell_type": "code",
   "execution_count": 32,
   "id": "3e9196f5",
   "metadata": {},
   "outputs": [
    {
     "data": {
      "text/plain": [
       "<AxesSubplot:>"
      ]
     },
     "execution_count": 32,
     "metadata": {},
     "output_type": "execute_result"
    },
    {
     "data": {
      "image/png": "[encoded data removed]",
      "text/plain": [
       "<Figure size 432x288 with 1 Axes>"
      ]
     },
     "metadata": {},
     "output_type": "display_data"
    }
   ],
   "source": [
    "data.groupby('target').mean()[cont].T.plot(kind='bar')"
   ]
  },
  {
   "cell_type": "code",
   "execution_count": 33,
   "id": "f90b327b",
   "metadata": {},
   "outputs": [],
   "source": [
    "X=data.drop('target',axis=1)\n",
    "y=data['target']"
   ]
  },
  {
   "cell_type": "code",
   "execution_count": 40,
   "id": "56642b71",
   "metadata": {},
   "outputs": [],
   "source": [
    "train_x,test_x,train_y,test_y=train_test_split(X,y,test_size=0.3)"
   ]
  },
  {
   "cell_type": "code",
   "execution_count": 41,
   "id": "c607adbe",
   "metadata": {},
   "outputs": [],
   "source": [
    "accuracies=dict()"
   ]
  },
  {
   "cell_type": "code",
   "execution_count": 45,
   "id": "d959af39",
   "metadata": {},
   "outputs": [],
   "source": [
    "models={\n",
    "    LogisticRegression(),\n",
    "    KNeighborsClassifier(),\n",
    "    BernoulliNB(),\n",
    "    SVC(),\n",
    "    DecisionTreeClassifier(),\n",
    "    RandomForestClassifier(),\n",
    "    AdaBoostClassifier(),\n",
    "    GradientBoostingClassifier()\n",
    "}"
   ]
  },
  {
   "cell_type": "code",
   "execution_count": 47,
   "id": "2469ee7e",
   "metadata": {},
   "outputs": [],
   "source": [
    "for model in models:\n",
    "    model.fit(train_x,train_y)\n",
    "    accuracies[model]=model.score(test_x,test_y)\n"
   ]
  },
  {
   "cell_type": "code",
   "execution_count": 48,
   "id": "b666268a",
   "metadata": {},
   "outputs": [
    {
     "data": {
      "text/plain": [
       "{KNeighborsClassifier(): 0.6153846153846154,\n",
       " BernoulliNB(): 0.8131868131868132,\n",
       " GradientBoostingClassifier(): 0.7032967032967034,\n",
       " LogisticRegression(): 0.8021978021978022,\n",
       " DecisionTreeClassifier(): 0.7692307692307693,\n",
       " SVC(): 0.6153846153846154,\n",
       " RandomForestClassifier(): 0.7912087912087912,\n",
       " AdaBoostClassifier(): 0.7582417582417582}"
      ]
     },
     "execution_count": 48,
     "metadata": {},
     "output_type": "execute_result"
    }
   ],
   "source": [
    "accuracies"
   ]
  },
  {
   "cell_type": "code",
   "execution_count": 56,
   "id": "b5f7d9a5",
   "metadata": {},
   "outputs": [
    {
     "data": {
      "text/plain": [
       "'AdaBoostClassifier'"
      ]
     },
     "execution_count": 56,
     "metadata": {},
     "output_type": "execute_result"
    }
   ],
   "source": [
    "type(model).__name__"
   ]
  },
  {
   "cell_type": "code",
   "execution_count": 57,
   "id": "0b206bcf",
   "metadata": {},
   "outputs": [],
   "source": [
    "    model_acc={type(model).__name__:acc for model,acc in accuracies.items()}"
   ]
  },
  {
   "cell_type": "code",
   "execution_count": 59,
   "id": "9bbf3bc9",
   "metadata": {},
   "outputs": [
    {
     "data": {
      "text/plain": [
       "{'KNeighborsClassifier': 0.6153846153846154,\n",
       " 'BernoulliNB': 0.8131868131868132,\n",
       " 'GradientBoostingClassifier': 0.7032967032967034,\n",
       " 'LogisticRegression': 0.8021978021978022,\n",
       " 'DecisionTreeClassifier': 0.7692307692307693,\n",
       " 'SVC': 0.6153846153846154,\n",
       " 'RandomForestClassifier': 0.7912087912087912,\n",
       " 'AdaBoostClassifier': 0.7582417582417582}"
      ]
     },
     "execution_count": 59,
     "metadata": {},
     "output_type": "execute_result"
    }
   ],
   "source": [
    "model_acc"
   ]
  },
  {
   "cell_type": "code",
   "execution_count": 66,
   "id": "f105df44",
   "metadata": {},
   "outputs": [
    {
     "data": {
      "image/png": "[encoded data removed]",
      "text/plain": [
       "<Figure size 432x288 with 1 Axes>"
      ]
     },
     "metadata": {},
     "output_type": "display_data"
    }
   ],
   "source": [
    "plt.bar(model_acc.keys(),model_acc.values())\n",
    "plt.xticks(rotation=90);"
   ]
  },
  {
   "cell_type": "code",
   "execution_count": 67,
   "id": "ee166de9",
   "metadata": {},
   "outputs": [],
   "source": [
    "svc=SVC()"
   ]
  },
  {
   "cell_type": "code",
   "execution_count": 94,
   "id": "d9805063",
   "metadata": {},
   "outputs": [],
   "source": [
    "param_grid={\n",
    "    'C':[0.1,0.01,0.001,1,10],\n",
    "    'gamma':[0.1,1,10,100,0.001,0.001]\n",
    "}"
   ]
  },
  {
   "cell_type": "code",
   "execution_count": 95,
   "id": "ada08e66",
   "metadata": {},
   "outputs": [],
   "source": [
    "grid=GridSearchCV(svc,param_grid,cv=10,verbose=1)"
   ]
  },
  {
   "cell_type": "code",
   "execution_count": 96,
   "id": "d4cb200f",
   "metadata": {},
   "outputs": [
    {
     "name": "stdout",
     "output_type": "stream",
     "text": [
      "Fitting 10 folds for each of 30 candidates, totalling 300 fits\n"
     ]
    },
    {
     "data": {
      "text/plain": [
       "GridSearchCV(cv=10, estimator=SVC(),\n",
       "             param_grid={'C': [0.1, 0.01, 0.001, 1, 10],\n",
       "                         'gamma': [0.1, 1, 10, 100, 0.001, 0.001]},\n",
       "             verbose=1)"
      ]
     },
     "execution_count": 96,
     "metadata": {},
     "output_type": "execute_result"
    }
   ],
   "source": [
    "grid.fit(train_x,train_y)"
   ]
  },
  {
   "cell_type": "code",
   "execution_count": 97,
   "id": "2c71be3f",
   "metadata": {},
   "outputs": [
    {
     "data": {
      "text/plain": [
       "{'C': 1, 'gamma': 0.001}"
      ]
     },
     "execution_count": 97,
     "metadata": {},
     "output_type": "execute_result"
    }
   ],
   "source": [
    "grid.best_params_"
   ]
  },
  {
   "cell_type": "code",
   "execution_count": 100,
   "id": "42f26e95",
   "metadata": {},
   "outputs": [],
   "source": [
    "svc=SVC(C=1,gamma=0.001)"
   ]
  },
  {
   "cell_type": "code",
   "execution_count": 101,
   "id": "8a16d382",
   "metadata": {},
   "outputs": [
    {
     "data": {
      "text/plain": [
       "SVC(C=1, gamma=0.001)"
      ]
     },
     "execution_count": 101,
     "metadata": {},
     "output_type": "execute_result"
    }
   ],
   "source": [
    "svc.fit(train_x,train_y,)"
   ]
  },
  {
   "cell_type": "code",
   "execution_count": 102,
   "id": "c518ace6",
   "metadata": {},
   "outputs": [
    {
     "data": {
      "text/plain": [
       "0.6263736263736264"
      ]
     },
     "execution_count": 102,
     "metadata": {},
     "output_type": "execute_result"
    }
   ],
   "source": [
    "svc.score(test_x,test_y)"
   ]
  },
  {
   "cell_type": "code",
   "execution_count": 103,
   "id": "e5f7dd85",
   "metadata": {},
   "outputs": [],
   "source": [
    "rf=RandomForestClassifier()"
   ]
  },
  {
   "cell_type": "code",
   "execution_count": 104,
   "id": "2a26e694",
   "metadata": {},
   "outputs": [],
   "source": [
    "param_grid={\n",
    "    'max_depth':[3,5,7],\n",
    "    'min_samples_leaf':[3,5,7],\n",
    "    'min_samples_split':[3,5,7],\n",
    "    'criterion':['gini','entropy'],\n",
    "    'n_estimators':[150,250]\n",
    "}"
   ]
  },
  {
   "cell_type": "code",
   "execution_count": 108,
   "id": "469fa132",
   "metadata": {},
   "outputs": [],
   "source": [
    "grid=GridSearchCV(rf,param_grid,cv=3,verbose=2)"
   ]
  },
  {
   "cell_type": "code",
   "execution_count": 109,
   "id": "a2148def",
   "metadata": {
    "scrolled": true
   },
   "outputs": [
    {
     "name": "stdout",
     "output_type": "stream",
     "text": [
      "Fitting 3 folds for each of 108 candidates, totalling 324 fits\n",
      "[CV] END criterion=gini, max_depth=3, min_samples_leaf=3, min_samples_split=3, n_estimators=150; total time=   0.2s\n",
      "[CV] END criterion=gini, max_depth=3, min_samples_leaf=3, min_samples_split=3, n_estimators=150; total time=   0.2s\n",
      "[CV] END criterion=gini, max_depth=3, min_samples_leaf=3, min_samples_split=3, n_estimators=150; total time=   0.2s\n",
      "[CV] END criterion=gini, max_depth=3, min_samples_leaf=3, min_samples_split=3, n_estimators=250; total time=   0.4s\n",
      "[CV] END criterion=gini, max_depth=3, min_samples_leaf=3, min_samples_split=3, n_estimators=250; total time=   0.4s\n",
      "[CV] END criterion=gini, max_depth=3, min_samples_leaf=3, min_samples_split=3, n_estimators=250; total time=   0.4s\n",
      "[CV] END criterion=gini, max_depth=3, min_samples_leaf=3, min_samples_split=5, n_estimators=150; total time=   0.2s\n",
      "[CV] END criterion=gini, max_depth=3, min_samples_leaf=3, min_samples_split=5, n_estimators=150; total time=   0.2s\n",
      "[CV] END criterion=gini, max_depth=3, min_samples_leaf=3, min_samples_split=5, n_estimators=150; total time=   0.2s\n",
      "[CV] END criterion=gini, max_depth=3, min_samples_leaf=3, min_samples_split=5, n_estimators=250; total time=   0.4s\n",
      "[CV] END criterion=gini, max_depth=3, min_samples_leaf=3, min_samples_split=5, n_estimators=250; total time=   0.4s\n",
      "[CV] END criterion=gini, max_depth=3, min_samples_leaf=3, min_samples_split=5, n_estimators=250; total time=   0.4s\n",
      "[CV] END criterion=gini, max_depth=3, min_samples_leaf=3, min_samples_split=7, n_estimators=150; total time=   0.2s\n",
      "[CV] END criterion=gini, max_depth=3, min_samples_leaf=3, min_samples_split=7, n_estimators=150; total time=   0.2s\n",
      "[CV] END criterion=gini, max_depth=3, min_samples_leaf=3, min_samples_split=7, n_estimators=150; total time=   0.3s\n",
      "[CV] END criterion=gini, max_depth=3, min_samples_leaf=3, min_samples_split=7, n_estimators=250; total time=   0.4s\n",
      "[CV] END criterion=gini, max_depth=3, min_samples_leaf=3, min_samples_split=7, n_estimators=250; total time=   0.4s\n",
      "[CV] END criterion=gini, max_depth=3, min_samples_leaf=3, min_samples_split=7, n_estimators=250; total time=   0.4s\n",
      "[CV] END criterion=gini, max_depth=3, min_samples_leaf=5, min_samples_split=3, n_estimators=150; total time=   0.3s\n",
      "[CV] END criterion=gini, max_depth=3, min_samples_leaf=5, min_samples_split=3, n_estimators=150; total time=   0.2s\n",
      "[CV] END criterion=gini, max_depth=3, min_samples_leaf=5, min_samples_split=3, n_estimators=150; total time=   0.3s\n",
      "[CV] END criterion=gini, max_depth=3, min_samples_leaf=5, min_samples_split=3, n_estimators=250; total time=   0.4s\n",
      "[CV] END criterion=gini, max_depth=3, min_samples_leaf=5, min_samples_split=3, n_estimators=250; total time=   0.4s\n",
      "[CV] END criterion=gini, max_depth=3, min_samples_leaf=5, min_samples_split=3, n_estimators=250; total time=   0.4s\n",
      "[CV] END criterion=gini, max_depth=3, min_samples_leaf=5, min_samples_split=5, n_estimators=150; total time=   0.2s\n",
      "[CV] END criterion=gini, max_depth=3, min_samples_leaf=5, min_samples_split=5, n_estimators=150; total time=   0.3s\n",
      "[CV] END criterion=gini, max_depth=3, min_samples_leaf=5, min_samples_split=5, n_estimators=150; total time=   0.2s\n",
      "[CV] END criterion=gini, max_depth=3, min_samples_leaf=5, min_samples_split=5, n_estimators=250; total time=   0.4s\n",
      "[CV] END criterion=gini, max_depth=3, min_samples_leaf=5, min_samples_split=5, n_estimators=250; total time=   0.4s\n",
      "[CV] END criterion=gini, max_depth=3, min_samples_leaf=5, min_samples_split=5, n_estimators=250; total time=   0.4s\n",
      "[CV] END criterion=gini, max_depth=3, min_samples_leaf=5, min_samples_split=7, n_estimators=150; total time=   0.2s\n",
      "[CV] END criterion=gini, max_depth=3, min_samples_leaf=5, min_samples_split=7, n_estimators=150; total time=   0.2s\n",
      "[CV] END criterion=gini, max_depth=3, min_samples_leaf=5, min_samples_split=7, n_estimators=150; total time=   0.2s\n",
      "[CV] END criterion=gini, max_depth=3, min_samples_leaf=5, min_samples_split=7, n_estimators=250; total time=   0.4s\n",
      "[CV] END criterion=gini, max_depth=3, min_samples_leaf=5, min_samples_split=7, n_estimators=250; total time=   0.4s\n",
      "[CV] END criterion=gini, max_depth=3, min_samples_leaf=5, min_samples_split=7, n_estimators=250; total time=   0.4s\n",
      "[CV] END criterion=gini, max_depth=3, min_samples_leaf=7, min_samples_split=3, n_estimators=150; total time=   0.2s\n",
      "[CV] END criterion=gini, max_depth=3, min_samples_leaf=7, min_samples_split=3, n_estimators=150; total time=   0.2s\n",
      "[CV] END criterion=gini, max_depth=3, min_samples_leaf=7, min_samples_split=3, n_estimators=150; total time=   0.2s\n",
      "[CV] END criterion=gini, max_depth=3, min_samples_leaf=7, min_samples_split=3, n_estimators=250; total time=   0.4s\n",
      "[CV] END criterion=gini, max_depth=3, min_samples_leaf=7, min_samples_split=3, n_estimators=250; total time=   0.4s\n",
      "[CV] END criterion=gini, max_depth=3, min_samples_leaf=7, min_samples_split=3, n_estimators=250; total time=   0.4s\n",
      "[CV] END criterion=gini, max_depth=3, min_samples_leaf=7, min_samples_split=5, n_estimators=150; total time=   0.2s\n",
      "[CV] END criterion=gini, max_depth=3, min_samples_leaf=7, min_samples_split=5, n_estimators=150; total time=   0.2s\n",
      "[CV] END criterion=gini, max_depth=3, min_samples_leaf=7, min_samples_split=5, n_estimators=150; total time=   0.2s\n",
      "[CV] END criterion=gini, max_depth=3, min_samples_leaf=7, min_samples_split=5, n_estimators=250; total time=   0.4s\n",
      "[CV] END criterion=gini, max_depth=3, min_samples_leaf=7, min_samples_split=5, n_estimators=250; total time=   0.4s\n",
      "[CV] END criterion=gini, max_depth=3, min_samples_leaf=7, min_samples_split=5, n_estimators=250; total time=   0.4s\n",
      "[CV] END criterion=gini, max_depth=3, min_samples_leaf=7, min_samples_split=7, n_estimators=150; total time=   0.2s\n",
      "[CV] END criterion=gini, max_depth=3, min_samples_leaf=7, min_samples_split=7, n_estimators=150; total time=   0.2s\n",
      "[CV] END criterion=gini, max_depth=3, min_samples_leaf=7, min_samples_split=7, n_estimators=150; total time=   0.2s\n",
      "[CV] END criterion=gini, max_depth=3, min_samples_leaf=7, min_samples_split=7, n_estimators=250; total time=   0.4s\n",
      "[CV] END criterion=gini, max_depth=3, min_samples_leaf=7, min_samples_split=7, n_estimators=250; total time=   0.4s\n",
      "[CV] END criterion=gini, max_depth=3, min_samples_leaf=7, min_samples_split=7, n_estimators=250; total time=   0.4s\n",
      "[CV] END criterion=gini, max_depth=5, min_samples_leaf=3, min_samples_split=3, n_estimators=150; total time=   0.2s\n",
      "[CV] END criterion=gini, max_depth=5, min_samples_leaf=3, min_samples_split=3, n_estimators=150; total time=   0.2s\n",
      "[CV] END criterion=gini, max_depth=5, min_samples_leaf=3, min_samples_split=3, n_estimators=150; total time=   0.2s\n",
      "[CV] END criterion=gini, max_depth=5, min_samples_leaf=3, min_samples_split=3, n_estimators=250; total time=   0.4s\n",
      "[CV] END criterion=gini, max_depth=5, min_samples_leaf=3, min_samples_split=3, n_estimators=250; total time=   0.4s\n",
      "[CV] END criterion=gini, max_depth=5, min_samples_leaf=3, min_samples_split=3, n_estimators=250; total time=   0.4s\n",
      "[CV] END criterion=gini, max_depth=5, min_samples_leaf=3, min_samples_split=5, n_estimators=150; total time=   0.2s\n",
      "[CV] END criterion=gini, max_depth=5, min_samples_leaf=3, min_samples_split=5, n_estimators=150; total time=   0.2s\n",
      "[CV] END criterion=gini, max_depth=5, min_samples_leaf=3, min_samples_split=5, n_estimators=150; total time=   0.2s\n",
      "[CV] END criterion=gini, max_depth=5, min_samples_leaf=3, min_samples_split=5, n_estimators=250; total time=   0.4s\n",
      "[CV] END criterion=gini, max_depth=5, min_samples_leaf=3, min_samples_split=5, n_estimators=250; total time=   0.4s\n",
      "[CV] END criterion=gini, max_depth=5, min_samples_leaf=3, min_samples_split=5, n_estimators=250; total time=   0.4s\n",
      "[CV] END criterion=gini, max_depth=5, min_samples_leaf=3, min_samples_split=7, n_estimators=150; total time=   0.2s\n",
      "[CV] END criterion=gini, max_depth=5, min_samples_leaf=3, min_samples_split=7, n_estimators=150; total time=   0.2s\n",
      "[CV] END criterion=gini, max_depth=5, min_samples_leaf=3, min_samples_split=7, n_estimators=150; total time=   0.2s\n",
      "[CV] END criterion=gini, max_depth=5, min_samples_leaf=3, min_samples_split=7, n_estimators=250; total time=   0.4s\n",
      "[CV] END criterion=gini, max_depth=5, min_samples_leaf=3, min_samples_split=7, n_estimators=250; total time=   0.4s\n"
     ]
    },
    {
     "name": "stdout",
     "output_type": "stream",
     "text": [
      "[CV] END criterion=gini, max_depth=5, min_samples_leaf=3, min_samples_split=7, n_estimators=250; total time=   0.4s\n",
      "[CV] END criterion=gini, max_depth=5, min_samples_leaf=5, min_samples_split=3, n_estimators=150; total time=   0.2s\n",
      "[CV] END criterion=gini, max_depth=5, min_samples_leaf=5, min_samples_split=3, n_estimators=150; total time=   0.2s\n",
      "[CV] END criterion=gini, max_depth=5, min_samples_leaf=5, min_samples_split=3, n_estimators=150; total time=   0.2s\n",
      "[CV] END criterion=gini, max_depth=5, min_samples_leaf=5, min_samples_split=3, n_estimators=250; total time=   0.4s\n",
      "[CV] END criterion=gini, max_depth=5, min_samples_leaf=5, min_samples_split=3, n_estimators=250; total time=   0.4s\n",
      "[CV] END criterion=gini, max_depth=5, min_samples_leaf=5, min_samples_split=3, n_estimators=250; total time=   0.4s\n",
      "[CV] END criterion=gini, max_depth=5, min_samples_leaf=5, min_samples_split=5, n_estimators=150; total time=   0.2s\n",
      "[CV] END criterion=gini, max_depth=5, min_samples_leaf=5, min_samples_split=5, n_estimators=150; total time=   0.2s\n",
      "[CV] END criterion=gini, max_depth=5, min_samples_leaf=5, min_samples_split=5, n_estimators=150; total time=   0.2s\n",
      "[CV] END criterion=gini, max_depth=5, min_samples_leaf=5, min_samples_split=5, n_estimators=250; total time=   0.4s\n",
      "[CV] END criterion=gini, max_depth=5, min_samples_leaf=5, min_samples_split=5, n_estimators=250; total time=   0.4s\n",
      "[CV] END criterion=gini, max_depth=5, min_samples_leaf=5, min_samples_split=5, n_estimators=250; total time=   0.4s\n",
      "[CV] END criterion=gini, max_depth=5, min_samples_leaf=5, min_samples_split=7, n_estimators=150; total time=   0.2s\n",
      "[CV] END criterion=gini, max_depth=5, min_samples_leaf=5, min_samples_split=7, n_estimators=150; total time=   0.2s\n",
      "[CV] END criterion=gini, max_depth=5, min_samples_leaf=5, min_samples_split=7, n_estimators=150; total time=   0.2s\n",
      "[CV] END criterion=gini, max_depth=5, min_samples_leaf=5, min_samples_split=7, n_estimators=250; total time=   0.4s\n",
      "[CV] END criterion=gini, max_depth=5, min_samples_leaf=5, min_samples_split=7, n_estimators=250; total time=   0.4s\n",
      "[CV] END criterion=gini, max_depth=5, min_samples_leaf=5, min_samples_split=7, n_estimators=250; total time=   0.4s\n",
      "[CV] END criterion=gini, max_depth=5, min_samples_leaf=7, min_samples_split=3, n_estimators=150; total time=   0.2s\n",
      "[CV] END criterion=gini, max_depth=5, min_samples_leaf=7, min_samples_split=3, n_estimators=150; total time=   0.2s\n",
      "[CV] END criterion=gini, max_depth=5, min_samples_leaf=7, min_samples_split=3, n_estimators=150; total time=   0.2s\n",
      "[CV] END criterion=gini, max_depth=5, min_samples_leaf=7, min_samples_split=3, n_estimators=250; total time=   0.4s\n",
      "[CV] END criterion=gini, max_depth=5, min_samples_leaf=7, min_samples_split=3, n_estimators=250; total time=   0.4s\n",
      "[CV] END criterion=gini, max_depth=5, min_samples_leaf=7, min_samples_split=3, n_estimators=250; total time=   0.4s\n",
      "[CV] END criterion=gini, max_depth=5, min_samples_leaf=7, min_samples_split=5, n_estimators=150; total time=   0.2s\n",
      "[CV] END criterion=gini, max_depth=5, min_samples_leaf=7, min_samples_split=5, n_estimators=150; total time=   0.2s\n",
      "[CV] END criterion=gini, max_depth=5, min_samples_leaf=7, min_samples_split=5, n_estimators=150; total time=   0.2s\n",
      "[CV] END criterion=gini, max_depth=5, min_samples_leaf=7, min_samples_split=5, n_estimators=250; total time=   0.4s\n",
      "[CV] END criterion=gini, max_depth=5, min_samples_leaf=7, min_samples_split=5, n_estimators=250; total time=   0.4s\n",
      "[CV] END criterion=gini, max_depth=5, min_samples_leaf=7, min_samples_split=5, n_estimators=250; total time=   0.4s\n",
      "[CV] END criterion=gini, max_depth=5, min_samples_leaf=7, min_samples_split=7, n_estimators=150; total time=   0.2s\n",
      "[CV] END criterion=gini, max_depth=5, min_samples_leaf=7, min_samples_split=7, n_estimators=150; total time=   0.3s\n",
      "[CV] END criterion=gini, max_depth=5, min_samples_leaf=7, min_samples_split=7, n_estimators=150; total time=   0.2s\n",
      "[CV] END criterion=gini, max_depth=5, min_samples_leaf=7, min_samples_split=7, n_estimators=250; total time=   0.4s\n",
      "[CV] END criterion=gini, max_depth=5, min_samples_leaf=7, min_samples_split=7, n_estimators=250; total time=   0.4s\n",
      "[CV] END criterion=gini, max_depth=5, min_samples_leaf=7, min_samples_split=7, n_estimators=250; total time=   0.4s\n",
      "[CV] END criterion=gini, max_depth=7, min_samples_leaf=3, min_samples_split=3, n_estimators=150; total time=   0.2s\n",
      "[CV] END criterion=gini, max_depth=7, min_samples_leaf=3, min_samples_split=3, n_estimators=150; total time=   0.2s\n",
      "[CV] END criterion=gini, max_depth=7, min_samples_leaf=3, min_samples_split=3, n_estimators=150; total time=   0.2s\n",
      "[CV] END criterion=gini, max_depth=7, min_samples_leaf=3, min_samples_split=3, n_estimators=250; total time=   0.4s\n",
      "[CV] END criterion=gini, max_depth=7, min_samples_leaf=3, min_samples_split=3, n_estimators=250; total time=   0.4s\n",
      "[CV] END criterion=gini, max_depth=7, min_samples_leaf=3, min_samples_split=3, n_estimators=250; total time=   0.4s\n",
      "[CV] END criterion=gini, max_depth=7, min_samples_leaf=3, min_samples_split=5, n_estimators=150; total time=   0.2s\n",
      "[CV] END criterion=gini, max_depth=7, min_samples_leaf=3, min_samples_split=5, n_estimators=150; total time=   0.2s\n",
      "[CV] END criterion=gini, max_depth=7, min_samples_leaf=3, min_samples_split=5, n_estimators=150; total time=   0.2s\n",
      "[CV] END criterion=gini, max_depth=7, min_samples_leaf=3, min_samples_split=5, n_estimators=250; total time=   0.4s\n",
      "[CV] END criterion=gini, max_depth=7, min_samples_leaf=3, min_samples_split=5, n_estimators=250; total time=   0.4s\n",
      "[CV] END criterion=gini, max_depth=7, min_samples_leaf=3, min_samples_split=5, n_estimators=250; total time=   0.4s\n",
      "[CV] END criterion=gini, max_depth=7, min_samples_leaf=3, min_samples_split=7, n_estimators=150; total time=   0.2s\n",
      "[CV] END criterion=gini, max_depth=7, min_samples_leaf=3, min_samples_split=7, n_estimators=150; total time=   0.2s\n",
      "[CV] END criterion=gini, max_depth=7, min_samples_leaf=3, min_samples_split=7, n_estimators=150; total time=   0.2s\n",
      "[CV] END criterion=gini, max_depth=7, min_samples_leaf=3, min_samples_split=7, n_estimators=250; total time=   0.4s\n",
      "[CV] END criterion=gini, max_depth=7, min_samples_leaf=3, min_samples_split=7, n_estimators=250; total time=   0.4s\n",
      "[CV] END criterion=gini, max_depth=7, min_samples_leaf=3, min_samples_split=7, n_estimators=250; total time=   0.4s\n",
      "[CV] END criterion=gini, max_depth=7, min_samples_leaf=5, min_samples_split=3, n_estimators=150; total time=   0.2s\n",
      "[CV] END criterion=gini, max_depth=7, min_samples_leaf=5, min_samples_split=3, n_estimators=150; total time=   0.2s\n",
      "[CV] END criterion=gini, max_depth=7, min_samples_leaf=5, min_samples_split=3, n_estimators=150; total time=   0.2s\n",
      "[CV] END criterion=gini, max_depth=7, min_samples_leaf=5, min_samples_split=3, n_estimators=250; total time=   0.4s\n",
      "[CV] END criterion=gini, max_depth=7, min_samples_leaf=5, min_samples_split=3, n_estimators=250; total time=   0.4s\n",
      "[CV] END criterion=gini, max_depth=7, min_samples_leaf=5, min_samples_split=3, n_estimators=250; total time=   0.4s\n",
      "[CV] END criterion=gini, max_depth=7, min_samples_leaf=5, min_samples_split=5, n_estimators=150; total time=   0.2s\n",
      "[CV] END criterion=gini, max_depth=7, min_samples_leaf=5, min_samples_split=5, n_estimators=150; total time=   0.2s\n",
      "[CV] END criterion=gini, max_depth=7, min_samples_leaf=5, min_samples_split=5, n_estimators=150; total time=   0.2s\n",
      "[CV] END criterion=gini, max_depth=7, min_samples_leaf=5, min_samples_split=5, n_estimators=250; total time=   0.4s\n",
      "[CV] END criterion=gini, max_depth=7, min_samples_leaf=5, min_samples_split=5, n_estimators=250; total time=   0.4s\n",
      "[CV] END criterion=gini, max_depth=7, min_samples_leaf=5, min_samples_split=5, n_estimators=250; total time=   0.4s\n",
      "[CV] END criterion=gini, max_depth=7, min_samples_leaf=5, min_samples_split=7, n_estimators=150; total time=   0.2s\n",
      "[CV] END criterion=gini, max_depth=7, min_samples_leaf=5, min_samples_split=7, n_estimators=150; total time=   0.2s\n",
      "[CV] END criterion=gini, max_depth=7, min_samples_leaf=5, min_samples_split=7, n_estimators=150; total time=   0.2s\n",
      "[CV] END criterion=gini, max_depth=7, min_samples_leaf=5, min_samples_split=7, n_estimators=250; total time=   0.4s\n"
     ]
    },
    {
     "name": "stdout",
     "output_type": "stream",
     "text": [
      "[CV] END criterion=gini, max_depth=7, min_samples_leaf=5, min_samples_split=7, n_estimators=250; total time=   0.4s\n",
      "[CV] END criterion=gini, max_depth=7, min_samples_leaf=5, min_samples_split=7, n_estimators=250; total time=   0.4s\n",
      "[CV] END criterion=gini, max_depth=7, min_samples_leaf=7, min_samples_split=3, n_estimators=150; total time=   0.2s\n",
      "[CV] END criterion=gini, max_depth=7, min_samples_leaf=7, min_samples_split=3, n_estimators=150; total time=   0.2s\n",
      "[CV] END criterion=gini, max_depth=7, min_samples_leaf=7, min_samples_split=3, n_estimators=150; total time=   0.2s\n",
      "[CV] END criterion=gini, max_depth=7, min_samples_leaf=7, min_samples_split=3, n_estimators=250; total time=   0.4s\n",
      "[CV] END criterion=gini, max_depth=7, min_samples_leaf=7, min_samples_split=3, n_estimators=250; total time=   0.4s\n",
      "[CV] END criterion=gini, max_depth=7, min_samples_leaf=7, min_samples_split=3, n_estimators=250; total time=   0.4s\n",
      "[CV] END criterion=gini, max_depth=7, min_samples_leaf=7, min_samples_split=5, n_estimators=150; total time=   0.2s\n",
      "[CV] END criterion=gini, max_depth=7, min_samples_leaf=7, min_samples_split=5, n_estimators=150; total time=   0.2s\n",
      "[CV] END criterion=gini, max_depth=7, min_samples_leaf=7, min_samples_split=5, n_estimators=150; total time=   0.2s\n",
      "[CV] END criterion=gini, max_depth=7, min_samples_leaf=7, min_samples_split=5, n_estimators=250; total time=   0.4s\n",
      "[CV] END criterion=gini, max_depth=7, min_samples_leaf=7, min_samples_split=5, n_estimators=250; total time=   0.4s\n",
      "[CV] END criterion=gini, max_depth=7, min_samples_leaf=7, min_samples_split=5, n_estimators=250; total time=   0.4s\n",
      "[CV] END criterion=gini, max_depth=7, min_samples_leaf=7, min_samples_split=7, n_estimators=150; total time=   0.2s\n",
      "[CV] END criterion=gini, max_depth=7, min_samples_leaf=7, min_samples_split=7, n_estimators=150; total time=   0.2s\n",
      "[CV] END criterion=gini, max_depth=7, min_samples_leaf=7, min_samples_split=7, n_estimators=150; total time=   0.2s\n",
      "[CV] END criterion=gini, max_depth=7, min_samples_leaf=7, min_samples_split=7, n_estimators=250; total time=   0.4s\n",
      "[CV] END criterion=gini, max_depth=7, min_samples_leaf=7, min_samples_split=7, n_estimators=250; total time=   0.4s\n",
      "[CV] END criterion=gini, max_depth=7, min_samples_leaf=7, min_samples_split=7, n_estimators=250; total time=   0.4s\n",
      "[CV] END criterion=entropy, max_depth=3, min_samples_leaf=3, min_samples_split=3, n_estimators=150; total time=   0.2s\n",
      "[CV] END criterion=entropy, max_depth=3, min_samples_leaf=3, min_samples_split=3, n_estimators=150; total time=   0.2s\n",
      "[CV] END criterion=entropy, max_depth=3, min_samples_leaf=3, min_samples_split=3, n_estimators=150; total time=   0.2s\n",
      "[CV] END criterion=entropy, max_depth=3, min_samples_leaf=3, min_samples_split=3, n_estimators=250; total time=   0.4s\n",
      "[CV] END criterion=entropy, max_depth=3, min_samples_leaf=3, min_samples_split=3, n_estimators=250; total time=   0.4s\n",
      "[CV] END criterion=entropy, max_depth=3, min_samples_leaf=3, min_samples_split=3, n_estimators=250; total time=   0.4s\n",
      "[CV] END criterion=entropy, max_depth=3, min_samples_leaf=3, min_samples_split=5, n_estimators=150; total time=   0.2s\n",
      "[CV] END criterion=entropy, max_depth=3, min_samples_leaf=3, min_samples_split=5, n_estimators=150; total time=   0.2s\n",
      "[CV] END criterion=entropy, max_depth=3, min_samples_leaf=3, min_samples_split=5, n_estimators=150; total time=   0.2s\n",
      "[CV] END criterion=entropy, max_depth=3, min_samples_leaf=3, min_samples_split=5, n_estimators=250; total time=   0.4s\n",
      "[CV] END criterion=entropy, max_depth=3, min_samples_leaf=3, min_samples_split=5, n_estimators=250; total time=   0.4s\n",
      "[CV] END criterion=entropy, max_depth=3, min_samples_leaf=3, min_samples_split=5, n_estimators=250; total time=   0.4s\n",
      "[CV] END criterion=entropy, max_depth=3, min_samples_leaf=3, min_samples_split=7, n_estimators=150; total time=   0.2s\n",
      "[CV] END criterion=entropy, max_depth=3, min_samples_leaf=3, min_samples_split=7, n_estimators=150; total time=   0.2s\n",
      "[CV] END criterion=entropy, max_depth=3, min_samples_leaf=3, min_samples_split=7, n_estimators=150; total time=   0.2s\n",
      "[CV] END criterion=entropy, max_depth=3, min_samples_leaf=3, min_samples_split=7, n_estimators=250; total time=   0.4s\n",
      "[CV] END criterion=entropy, max_depth=3, min_samples_leaf=3, min_samples_split=7, n_estimators=250; total time=   0.4s\n",
      "[CV] END criterion=entropy, max_depth=3, min_samples_leaf=3, min_samples_split=7, n_estimators=250; total time=   0.4s\n",
      "[CV] END criterion=entropy, max_depth=3, min_samples_leaf=5, min_samples_split=3, n_estimators=150; total time=   0.2s\n",
      "[CV] END criterion=entropy, max_depth=3, min_samples_leaf=5, min_samples_split=3, n_estimators=150; total time=   0.2s\n",
      "[CV] END criterion=entropy, max_depth=3, min_samples_leaf=5, min_samples_split=3, n_estimators=150; total time=   0.2s\n",
      "[CV] END criterion=entropy, max_depth=3, min_samples_leaf=5, min_samples_split=3, n_estimators=250; total time=   0.4s\n",
      "[CV] END criterion=entropy, max_depth=3, min_samples_leaf=5, min_samples_split=3, n_estimators=250; total time=   0.4s\n",
      "[CV] END criterion=entropy, max_depth=3, min_samples_leaf=5, min_samples_split=3, n_estimators=250; total time=   0.4s\n",
      "[CV] END criterion=entropy, max_depth=3, min_samples_leaf=5, min_samples_split=5, n_estimators=150; total time=   0.2s\n",
      "[CV] END criterion=entropy, max_depth=3, min_samples_leaf=5, min_samples_split=5, n_estimators=150; total time=   0.2s\n",
      "[CV] END criterion=entropy, max_depth=3, min_samples_leaf=5, min_samples_split=5, n_estimators=150; total time=   0.2s\n",
      "[CV] END criterion=entropy, max_depth=3, min_samples_leaf=5, min_samples_split=5, n_estimators=250; total time=   0.4s\n",
      "[CV] END criterion=entropy, max_depth=3, min_samples_leaf=5, min_samples_split=5, n_estimators=250; total time=   0.4s\n",
      "[CV] END criterion=entropy, max_depth=3, min_samples_leaf=5, min_samples_split=5, n_estimators=250; total time=   0.4s\n",
      "[CV] END criterion=entropy, max_depth=3, min_samples_leaf=5, min_samples_split=7, n_estimators=150; total time=   0.2s\n",
      "[CV] END criterion=entropy, max_depth=3, min_samples_leaf=5, min_samples_split=7, n_estimators=150; total time=   0.2s\n",
      "[CV] END criterion=entropy, max_depth=3, min_samples_leaf=5, min_samples_split=7, n_estimators=150; total time=   0.3s\n",
      "[CV] END criterion=entropy, max_depth=3, min_samples_leaf=5, min_samples_split=7, n_estimators=250; total time=   0.4s\n",
      "[CV] END criterion=entropy, max_depth=3, min_samples_leaf=5, min_samples_split=7, n_estimators=250; total time=   0.4s\n",
      "[CV] END criterion=entropy, max_depth=3, min_samples_leaf=5, min_samples_split=7, n_estimators=250; total time=   0.4s\n",
      "[CV] END criterion=entropy, max_depth=3, min_samples_leaf=7, min_samples_split=3, n_estimators=150; total time=   0.2s\n",
      "[CV] END criterion=entropy, max_depth=3, min_samples_leaf=7, min_samples_split=3, n_estimators=150; total time=   0.2s\n",
      "[CV] END criterion=entropy, max_depth=3, min_samples_leaf=7, min_samples_split=3, n_estimators=150; total time=   0.2s\n",
      "[CV] END criterion=entropy, max_depth=3, min_samples_leaf=7, min_samples_split=3, n_estimators=250; total time=   0.4s\n",
      "[CV] END criterion=entropy, max_depth=3, min_samples_leaf=7, min_samples_split=3, n_estimators=250; total time=   0.4s\n",
      "[CV] END criterion=entropy, max_depth=3, min_samples_leaf=7, min_samples_split=3, n_estimators=250; total time=   0.4s\n",
      "[CV] END criterion=entropy, max_depth=3, min_samples_leaf=7, min_samples_split=5, n_estimators=150; total time=   0.2s\n",
      "[CV] END criterion=entropy, max_depth=3, min_samples_leaf=7, min_samples_split=5, n_estimators=150; total time=   0.3s\n",
      "[CV] END criterion=entropy, max_depth=3, min_samples_leaf=7, min_samples_split=5, n_estimators=150; total time=   0.2s\n",
      "[CV] END criterion=entropy, max_depth=3, min_samples_leaf=7, min_samples_split=5, n_estimators=250; total time=   0.4s\n",
      "[CV] END criterion=entropy, max_depth=3, min_samples_leaf=7, min_samples_split=5, n_estimators=250; total time=   0.4s\n",
      "[CV] END criterion=entropy, max_depth=3, min_samples_leaf=7, min_samples_split=5, n_estimators=250; total time=   0.4s\n",
      "[CV] END criterion=entropy, max_depth=3, min_samples_leaf=7, min_samples_split=7, n_estimators=150; total time=   0.3s\n",
      "[CV] END criterion=entropy, max_depth=3, min_samples_leaf=7, min_samples_split=7, n_estimators=150; total time=   0.2s\n"
     ]
    },
    {
     "name": "stdout",
     "output_type": "stream",
     "text": [
      "[CV] END criterion=entropy, max_depth=3, min_samples_leaf=7, min_samples_split=7, n_estimators=150; total time=   0.2s\n",
      "[CV] END criterion=entropy, max_depth=3, min_samples_leaf=7, min_samples_split=7, n_estimators=250; total time=   0.4s\n",
      "[CV] END criterion=entropy, max_depth=3, min_samples_leaf=7, min_samples_split=7, n_estimators=250; total time=   0.4s\n",
      "[CV] END criterion=entropy, max_depth=3, min_samples_leaf=7, min_samples_split=7, n_estimators=250; total time=   0.4s\n",
      "[CV] END criterion=entropy, max_depth=5, min_samples_leaf=3, min_samples_split=3, n_estimators=150; total time=   0.2s\n",
      "[CV] END criterion=entropy, max_depth=5, min_samples_leaf=3, min_samples_split=3, n_estimators=150; total time=   0.2s\n",
      "[CV] END criterion=entropy, max_depth=5, min_samples_leaf=3, min_samples_split=3, n_estimators=150; total time=   0.2s\n",
      "[CV] END criterion=entropy, max_depth=5, min_samples_leaf=3, min_samples_split=3, n_estimators=250; total time=   0.4s\n",
      "[CV] END criterion=entropy, max_depth=5, min_samples_leaf=3, min_samples_split=3, n_estimators=250; total time=   0.4s\n",
      "[CV] END criterion=entropy, max_depth=5, min_samples_leaf=3, min_samples_split=3, n_estimators=250; total time=   0.4s\n",
      "[CV] END criterion=entropy, max_depth=5, min_samples_leaf=3, min_samples_split=5, n_estimators=150; total time=   0.2s\n",
      "[CV] END criterion=entropy, max_depth=5, min_samples_leaf=3, min_samples_split=5, n_estimators=150; total time=   0.2s\n",
      "[CV] END criterion=entropy, max_depth=5, min_samples_leaf=3, min_samples_split=5, n_estimators=150; total time=   0.2s\n",
      "[CV] END criterion=entropy, max_depth=5, min_samples_leaf=3, min_samples_split=5, n_estimators=250; total time=   0.4s\n",
      "[CV] END criterion=entropy, max_depth=5, min_samples_leaf=3, min_samples_split=5, n_estimators=250; total time=   0.4s\n",
      "[CV] END criterion=entropy, max_depth=5, min_samples_leaf=3, min_samples_split=5, n_estimators=250; total time=   0.4s\n",
      "[CV] END criterion=entropy, max_depth=5, min_samples_leaf=3, min_samples_split=7, n_estimators=150; total time=   0.2s\n",
      "[CV] END criterion=entropy, max_depth=5, min_samples_leaf=3, min_samples_split=7, n_estimators=150; total time=   0.2s\n",
      "[CV] END criterion=entropy, max_depth=5, min_samples_leaf=3, min_samples_split=7, n_estimators=150; total time=   0.2s\n",
      "[CV] END criterion=entropy, max_depth=5, min_samples_leaf=3, min_samples_split=7, n_estimators=250; total time=   0.4s\n",
      "[CV] END criterion=entropy, max_depth=5, min_samples_leaf=3, min_samples_split=7, n_estimators=250; total time=   0.4s\n",
      "[CV] END criterion=entropy, max_depth=5, min_samples_leaf=3, min_samples_split=7, n_estimators=250; total time=   0.4s\n",
      "[CV] END criterion=entropy, max_depth=5, min_samples_leaf=5, min_samples_split=3, n_estimators=150; total time=   0.2s\n",
      "[CV] END criterion=entropy, max_depth=5, min_samples_leaf=5, min_samples_split=3, n_estimators=150; total time=   0.2s\n",
      "[CV] END criterion=entropy, max_depth=5, min_samples_leaf=5, min_samples_split=3, n_estimators=150; total time=   0.2s\n",
      "[CV] END criterion=entropy, max_depth=5, min_samples_leaf=5, min_samples_split=3, n_estimators=250; total time=   0.4s\n",
      "[CV] END criterion=entropy, max_depth=5, min_samples_leaf=5, min_samples_split=3, n_estimators=250; total time=   0.4s\n",
      "[CV] END criterion=entropy, max_depth=5, min_samples_leaf=5, min_samples_split=3, n_estimators=250; total time=   0.4s\n",
      "[CV] END criterion=entropy, max_depth=5, min_samples_leaf=5, min_samples_split=5, n_estimators=150; total time=   0.2s\n",
      "[CV] END criterion=entropy, max_depth=5, min_samples_leaf=5, min_samples_split=5, n_estimators=150; total time=   0.2s\n",
      "[CV] END criterion=entropy, max_depth=5, min_samples_leaf=5, min_samples_split=5, n_estimators=150; total time=   0.2s\n",
      "[CV] END criterion=entropy, max_depth=5, min_samples_leaf=5, min_samples_split=5, n_estimators=250; total time=   0.4s\n",
      "[CV] END criterion=entropy, max_depth=5, min_samples_leaf=5, min_samples_split=5, n_estimators=250; total time=   0.4s\n",
      "[CV] END criterion=entropy, max_depth=5, min_samples_leaf=5, min_samples_split=5, n_estimators=250; total time=   0.4s\n",
      "[CV] END criterion=entropy, max_depth=5, min_samples_leaf=5, min_samples_split=7, n_estimators=150; total time=   0.2s\n",
      "[CV] END criterion=entropy, max_depth=5, min_samples_leaf=5, min_samples_split=7, n_estimators=150; total time=   0.2s\n",
      "[CV] END criterion=entropy, max_depth=5, min_samples_leaf=5, min_samples_split=7, n_estimators=150; total time=   0.2s\n",
      "[CV] END criterion=entropy, max_depth=5, min_samples_leaf=5, min_samples_split=7, n_estimators=250; total time=   0.4s\n",
      "[CV] END criterion=entropy, max_depth=5, min_samples_leaf=5, min_samples_split=7, n_estimators=250; total time=   0.4s\n",
      "[CV] END criterion=entropy, max_depth=5, min_samples_leaf=5, min_samples_split=7, n_estimators=250; total time=   0.4s\n",
      "[CV] END criterion=entropy, max_depth=5, min_samples_leaf=7, min_samples_split=3, n_estimators=150; total time=   0.2s\n",
      "[CV] END criterion=entropy, max_depth=5, min_samples_leaf=7, min_samples_split=3, n_estimators=150; total time=   0.2s\n",
      "[CV] END criterion=entropy, max_depth=5, min_samples_leaf=7, min_samples_split=3, n_estimators=150; total time=   0.2s\n",
      "[CV] END criterion=entropy, max_depth=5, min_samples_leaf=7, min_samples_split=3, n_estimators=250; total time=   0.4s\n",
      "[CV] END criterion=entropy, max_depth=5, min_samples_leaf=7, min_samples_split=3, n_estimators=250; total time=   0.4s\n",
      "[CV] END criterion=entropy, max_depth=5, min_samples_leaf=7, min_samples_split=3, n_estimators=250; total time=   0.4s\n",
      "[CV] END criterion=entropy, max_depth=5, min_samples_leaf=7, min_samples_split=5, n_estimators=150; total time=   0.2s\n",
      "[CV] END criterion=entropy, max_depth=5, min_samples_leaf=7, min_samples_split=5, n_estimators=150; total time=   0.2s\n",
      "[CV] END criterion=entropy, max_depth=5, min_samples_leaf=7, min_samples_split=5, n_estimators=150; total time=   0.2s\n",
      "[CV] END criterion=entropy, max_depth=5, min_samples_leaf=7, min_samples_split=5, n_estimators=250; total time=   0.4s\n",
      "[CV] END criterion=entropy, max_depth=5, min_samples_leaf=7, min_samples_split=5, n_estimators=250; total time=   0.4s\n",
      "[CV] END criterion=entropy, max_depth=5, min_samples_leaf=7, min_samples_split=5, n_estimators=250; total time=   0.4s\n",
      "[CV] END criterion=entropy, max_depth=5, min_samples_leaf=7, min_samples_split=7, n_estimators=150; total time=   0.2s\n",
      "[CV] END criterion=entropy, max_depth=5, min_samples_leaf=7, min_samples_split=7, n_estimators=150; total time=   0.2s\n",
      "[CV] END criterion=entropy, max_depth=5, min_samples_leaf=7, min_samples_split=7, n_estimators=150; total time=   0.2s\n",
      "[CV] END criterion=entropy, max_depth=5, min_samples_leaf=7, min_samples_split=7, n_estimators=250; total time=   0.4s\n",
      "[CV] END criterion=entropy, max_depth=5, min_samples_leaf=7, min_samples_split=7, n_estimators=250; total time=   0.4s\n",
      "[CV] END criterion=entropy, max_depth=5, min_samples_leaf=7, min_samples_split=7, n_estimators=250; total time=   0.4s\n",
      "[CV] END criterion=entropy, max_depth=7, min_samples_leaf=3, min_samples_split=3, n_estimators=150; total time=   0.2s\n",
      "[CV] END criterion=entropy, max_depth=7, min_samples_leaf=3, min_samples_split=3, n_estimators=150; total time=   0.2s\n",
      "[CV] END criterion=entropy, max_depth=7, min_samples_leaf=3, min_samples_split=3, n_estimators=150; total time=   0.2s\n",
      "[CV] END criterion=entropy, max_depth=7, min_samples_leaf=3, min_samples_split=3, n_estimators=250; total time=   0.4s\n",
      "[CV] END criterion=entropy, max_depth=7, min_samples_leaf=3, min_samples_split=3, n_estimators=250; total time=   0.4s\n",
      "[CV] END criterion=entropy, max_depth=7, min_samples_leaf=3, min_samples_split=3, n_estimators=250; total time=   0.4s\n",
      "[CV] END criterion=entropy, max_depth=7, min_samples_leaf=3, min_samples_split=5, n_estimators=150; total time=   0.2s\n",
      "[CV] END criterion=entropy, max_depth=7, min_samples_leaf=3, min_samples_split=5, n_estimators=150; total time=   0.2s\n",
      "[CV] END criterion=entropy, max_depth=7, min_samples_leaf=3, min_samples_split=5, n_estimators=150; total time=   0.2s\n",
      "[CV] END criterion=entropy, max_depth=7, min_samples_leaf=3, min_samples_split=5, n_estimators=250; total time=   0.4s\n",
      "[CV] END criterion=entropy, max_depth=7, min_samples_leaf=3, min_samples_split=5, n_estimators=250; total time=   0.4s\n"
     ]
    },
    {
     "name": "stdout",
     "output_type": "stream",
     "text": [
      "[CV] END criterion=entropy, max_depth=7, min_samples_leaf=3, min_samples_split=5, n_estimators=250; total time=   0.4s\n",
      "[CV] END criterion=entropy, max_depth=7, min_samples_leaf=3, min_samples_split=7, n_estimators=150; total time=   0.2s\n",
      "[CV] END criterion=entropy, max_depth=7, min_samples_leaf=3, min_samples_split=7, n_estimators=150; total time=   0.2s\n",
      "[CV] END criterion=entropy, max_depth=7, min_samples_leaf=3, min_samples_split=7, n_estimators=150; total time=   0.2s\n",
      "[CV] END criterion=entropy, max_depth=7, min_samples_leaf=3, min_samples_split=7, n_estimators=250; total time=   0.4s\n",
      "[CV] END criterion=entropy, max_depth=7, min_samples_leaf=3, min_samples_split=7, n_estimators=250; total time=   0.4s\n",
      "[CV] END criterion=entropy, max_depth=7, min_samples_leaf=3, min_samples_split=7, n_estimators=250; total time=   0.4s\n",
      "[CV] END criterion=entropy, max_depth=7, min_samples_leaf=5, min_samples_split=3, n_estimators=150; total time=   0.2s\n",
      "[CV] END criterion=entropy, max_depth=7, min_samples_leaf=5, min_samples_split=3, n_estimators=150; total time=   0.2s\n",
      "[CV] END criterion=entropy, max_depth=7, min_samples_leaf=5, min_samples_split=3, n_estimators=150; total time=   0.2s\n",
      "[CV] END criterion=entropy, max_depth=7, min_samples_leaf=5, min_samples_split=3, n_estimators=250; total time=   0.4s\n",
      "[CV] END criterion=entropy, max_depth=7, min_samples_leaf=5, min_samples_split=3, n_estimators=250; total time=   0.4s\n",
      "[CV] END criterion=entropy, max_depth=7, min_samples_leaf=5, min_samples_split=3, n_estimators=250; total time=   0.4s\n",
      "[CV] END criterion=entropy, max_depth=7, min_samples_leaf=5, min_samples_split=5, n_estimators=150; total time=   0.2s\n",
      "[CV] END criterion=entropy, max_depth=7, min_samples_leaf=5, min_samples_split=5, n_estimators=150; total time=   0.2s\n",
      "[CV] END criterion=entropy, max_depth=7, min_samples_leaf=5, min_samples_split=5, n_estimators=150; total time=   0.2s\n",
      "[CV] END criterion=entropy, max_depth=7, min_samples_leaf=5, min_samples_split=5, n_estimators=250; total time=   0.4s\n",
      "[CV] END criterion=entropy, max_depth=7, min_samples_leaf=5, min_samples_split=5, n_estimators=250; total time=   0.4s\n",
      "[CV] END criterion=entropy, max_depth=7, min_samples_leaf=5, min_samples_split=5, n_estimators=250; total time=   0.4s\n",
      "[CV] END criterion=entropy, max_depth=7, min_samples_leaf=5, min_samples_split=7, n_estimators=150; total time=   0.2s\n",
      "[CV] END criterion=entropy, max_depth=7, min_samples_leaf=5, min_samples_split=7, n_estimators=150; total time=   0.2s\n",
      "[CV] END criterion=entropy, max_depth=7, min_samples_leaf=5, min_samples_split=7, n_estimators=150; total time=   0.2s\n",
      "[CV] END criterion=entropy, max_depth=7, min_samples_leaf=5, min_samples_split=7, n_estimators=250; total time=   0.4s\n",
      "[CV] END criterion=entropy, max_depth=7, min_samples_leaf=5, min_samples_split=7, n_estimators=250; total time=   0.4s\n",
      "[CV] END criterion=entropy, max_depth=7, min_samples_leaf=5, min_samples_split=7, n_estimators=250; total time=   0.4s\n",
      "[CV] END criterion=entropy, max_depth=7, min_samples_leaf=7, min_samples_split=3, n_estimators=150; total time=   0.2s\n",
      "[CV] END criterion=entropy, max_depth=7, min_samples_leaf=7, min_samples_split=3, n_estimators=150; total time=   0.2s\n",
      "[CV] END criterion=entropy, max_depth=7, min_samples_leaf=7, min_samples_split=3, n_estimators=150; total time=   0.2s\n",
      "[CV] END criterion=entropy, max_depth=7, min_samples_leaf=7, min_samples_split=3, n_estimators=250; total time=   0.4s\n",
      "[CV] END criterion=entropy, max_depth=7, min_samples_leaf=7, min_samples_split=3, n_estimators=250; total time=   0.4s\n",
      "[CV] END criterion=entropy, max_depth=7, min_samples_leaf=7, min_samples_split=3, n_estimators=250; total time=   0.4s\n",
      "[CV] END criterion=entropy, max_depth=7, min_samples_leaf=7, min_samples_split=5, n_estimators=150; total time=   0.2s\n",
      "[CV] END criterion=entropy, max_depth=7, min_samples_leaf=7, min_samples_split=5, n_estimators=150; total time=   0.2s\n",
      "[CV] END criterion=entropy, max_depth=7, min_samples_leaf=7, min_samples_split=5, n_estimators=150; total time=   0.3s\n",
      "[CV] END criterion=entropy, max_depth=7, min_samples_leaf=7, min_samples_split=5, n_estimators=250; total time=   0.4s\n",
      "[CV] END criterion=entropy, max_depth=7, min_samples_leaf=7, min_samples_split=5, n_estimators=250; total time=   0.4s\n",
      "[CV] END criterion=entropy, max_depth=7, min_samples_leaf=7, min_samples_split=5, n_estimators=250; total time=   0.4s\n",
      "[CV] END criterion=entropy, max_depth=7, min_samples_leaf=7, min_samples_split=7, n_estimators=150; total time=   0.2s\n",
      "[CV] END criterion=entropy, max_depth=7, min_samples_leaf=7, min_samples_split=7, n_estimators=150; total time=   0.2s\n",
      "[CV] END criterion=entropy, max_depth=7, min_samples_leaf=7, min_samples_split=7, n_estimators=150; total time=   0.2s\n",
      "[CV] END criterion=entropy, max_depth=7, min_samples_leaf=7, min_samples_split=7, n_estimators=250; total time=   0.4s\n",
      "[CV] END criterion=entropy, max_depth=7, min_samples_leaf=7, min_samples_split=7, n_estimators=250; total time=   0.4s\n",
      "[CV] END criterion=entropy, max_depth=7, min_samples_leaf=7, min_samples_split=7, n_estimators=250; total time=   0.4s\n"
     ]
    },
    {
     "data": {
      "text/plain": [
       "GridSearchCV(cv=3, estimator=RandomForestClassifier(),\n",
       "             param_grid={'criterion': ['gini', 'entropy'],\n",
       "                         'max_depth': [3, 5, 7], 'min_samples_leaf': [3, 5, 7],\n",
       "                         'min_samples_split': [3, 5, 7],\n",
       "                         'n_estimators': [150, 250]},\n",
       "             verbose=2)"
      ]
     },
     "execution_count": 109,
     "metadata": {},
     "output_type": "execute_result"
    }
   ],
   "source": [
    "grid.fit(X,y)"
   ]
  },
  {
   "cell_type": "code",
   "execution_count": 110,
   "id": "d1bdc28d",
   "metadata": {},
   "outputs": [
    {
     "data": {
      "text/plain": [
       "{'criterion': 'gini',\n",
       " 'max_depth': 3,\n",
       " 'min_samples_leaf': 3,\n",
       " 'min_samples_split': 7,\n",
       " 'n_estimators': 250}"
      ]
     },
     "execution_count": 110,
     "metadata": {},
     "output_type": "execute_result"
    }
   ],
   "source": [
    "grid.best_params_"
   ]
  },
  {
   "cell_type": "code",
   "execution_count": 111,
   "id": "11d3dba5",
   "metadata": {},
   "outputs": [
    {
     "data": {
      "text/plain": [
       "0.8448844884488449"
      ]
     },
     "execution_count": 111,
     "metadata": {},
     "output_type": "execute_result"
    }
   ],
   "source": [
    "grid.best_score_"
   ]
  }
 ],
 "metadata": {
  "kernelspec": {
   "display_name": "Python 3 (ipykernel)",
   "language": "python",
   "name": "python3"
  },
  "language_info": {
   "codemirror_mode": {
    "name": "ipython",
    "version": 3
   },
   "file_extension": ".py",
   "mimetype": "text/x-python",
   "name": "python",
   "nbconvert_exporter": "python",
   "pygments_lexer": "ipython3",
   "version": "3.9.12"
  }
 },
 "nbformat": 4,
 "nbformat_minor": 5
}
