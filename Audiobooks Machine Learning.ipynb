{
 "cells": [
  {
   "cell_type": "markdown",
   "id": "96a2d1e8",
   "metadata": {},
   "source": [
    "# ML model for AudioBooks"
   ]
  },
  {
   "cell_type": "code",
   "execution_count": 2,
   "id": "b6e3a982",
   "metadata": {},
   "outputs": [
    {
     "name": "stderr",
     "output_type": "stream",
     "text": [
      "2022-11-02 19:13:02.589273: W tensorflow/stream_executor/platform/default/dso_loader.cc:64] Could not load dynamic library 'libcudart.so.11.0'; dlerror: libcudart.so.11.0: cannot open shared object file: No such file or directory\n",
      "2022-11-02 19:13:02.589324: I tensorflow/stream_executor/cuda/cudart_stub.cc:29] Ignore above cudart dlerror if you do not have a GPU set up on your machine.\n",
      "2022-11-02 19:13:02.945642: E tensorflow/stream_executor/cuda/cuda_blas.cc:2981] Unable to register cuBLAS factory: Attempting to register factory for plugin cuBLAS when one has already been registered\n",
      "2022-11-02 19:13:10.275594: W tensorflow/stream_executor/platform/default/dso_loader.cc:64] Could not load dynamic library 'libnvinfer.so.7'; dlerror: libnvinfer.so.7: cannot open shared object file: No such file or directory\n",
      "2022-11-02 19:13:10.275742: W tensorflow/stream_executor/platform/default/dso_loader.cc:64] Could not load dynamic library 'libnvinfer_plugin.so.7'; dlerror: libnvinfer_plugin.so.7: cannot open shared object file: No such file or directory\n",
      "2022-11-02 19:13:10.275754: W tensorflow/compiler/tf2tensorrt/utils/py_utils.cc:38] TF-TRT Warning: Cannot dlopen some TensorRT libraries. If you would like to use Nvidia GPU with TensorRT, please make sure the missing libraries mentioned above are installed properly.\n"
     ]
    }
   ],
   "source": [
    "import numpy as np\n",
    "import tensorflow as tf"
   ]
  },
  {
   "cell_type": "code",
   "execution_count": 15,
   "id": "964e0629",
   "metadata": {},
   "outputs": [],
   "source": [
    "npz=np.load('Audiobooks_data_train.npz')\n",
    "\n",
    "train_data=npz['inputs'].astype(np.float64)\n",
    "train_targets=npz['targets'].astype(np.float64)\n",
    "\n",
    "npz=np.load('Audiobooks_data_validation.npz')\n",
    "\n",
    "validation_data,validation_targets=npz['inputs'].astype(np.float64),npz['targets'].astype(np.float64)\n",
    "\n",
    "npz=np.load('Audiobooks_data_test.npz')\n",
    "\n",
    "test_data,test_targets=npz['inputs'].astype(np.float64),npz['targets'].astype(np.float64)"
   ]
  },
  {
   "cell_type": "markdown",
   "id": "8956002d",
   "metadata": {},
   "source": [
    "## Model"
   ]
  },
  {
   "cell_type": "code",
   "execution_count": 23,
   "id": "1c995361",
   "metadata": {},
   "outputs": [
    {
     "name": "stdout",
     "output_type": "stream",
     "text": [
      "Epoch 1/100\n",
      "36/36 - 1s - loss: 0.6199 - accuracy: 0.6756 - val_loss: 0.5329 - val_accuracy: 0.7651 - 588ms/epoch - 16ms/step\n",
      "Epoch 2/100\n",
      "36/36 - 0s - loss: 0.4798 - accuracy: 0.7619 - val_loss: 0.4535 - val_accuracy: 0.7740 - 77ms/epoch - 2ms/step\n",
      "Epoch 3/100\n",
      "36/36 - 0s - loss: 0.4269 - accuracy: 0.7793 - val_loss: 0.4275 - val_accuracy: 0.7852 - 74ms/epoch - 2ms/step\n",
      "Epoch 4/100\n",
      "36/36 - 0s - loss: 0.4055 - accuracy: 0.7835 - val_loss: 0.4131 - val_accuracy: 0.7875 - 81ms/epoch - 2ms/step\n",
      "Epoch 5/100\n",
      "36/36 - 0s - loss: 0.3917 - accuracy: 0.7913 - val_loss: 0.4062 - val_accuracy: 0.8054 - 81ms/epoch - 2ms/step\n",
      "Epoch 6/100\n",
      "36/36 - 0s - loss: 0.3847 - accuracy: 0.7907 - val_loss: 0.4033 - val_accuracy: 0.7942 - 112ms/epoch - 3ms/step\n",
      "Epoch 7/100\n",
      "36/36 - 0s - loss: 0.3806 - accuracy: 0.7916 - val_loss: 0.3987 - val_accuracy: 0.7964 - 86ms/epoch - 2ms/step\n",
      "Epoch 8/100\n",
      "36/36 - 0s - loss: 0.3731 - accuracy: 0.8016 - val_loss: 0.3919 - val_accuracy: 0.7987 - 80ms/epoch - 2ms/step\n",
      "Epoch 9/100\n",
      "36/36 - 0s - loss: 0.3739 - accuracy: 0.7980 - val_loss: 0.3890 - val_accuracy: 0.8009 - 78ms/epoch - 2ms/step\n",
      "Epoch 10/100\n",
      "36/36 - 0s - loss: 0.3697 - accuracy: 0.7994 - val_loss: 0.3900 - val_accuracy: 0.8009 - 79ms/epoch - 2ms/step\n",
      "Epoch 11/100\n",
      "36/36 - 0s - loss: 0.3685 - accuracy: 0.8019 - val_loss: 0.3879 - val_accuracy: 0.8121 - 76ms/epoch - 2ms/step\n",
      "Epoch 12/100\n",
      "36/36 - 0s - loss: 0.3665 - accuracy: 0.8050 - val_loss: 0.3904 - val_accuracy: 0.8121 - 78ms/epoch - 2ms/step\n",
      "Epoch 13/100\n",
      "36/36 - 0s - loss: 0.3621 - accuracy: 0.7994 - val_loss: 0.3985 - val_accuracy: 0.8031 - 90ms/epoch - 3ms/step\n"
     ]
    },
    {
     "data": {
      "text/plain": [
       "<keras.callbacks.History at 0x7ff03d8fa7f0>"
      ]
     },
     "execution_count": 23,
     "metadata": {},
     "output_type": "execute_result"
    }
   ],
   "source": [
    "input_size=10\n",
    "hidden_layer_size=50\n",
    "output_size=2\n",
    "\n",
    "model=tf.keras.Sequential([\n",
    "    tf.keras.layers.Dense(hidden_layer_size,activation='relu'),\n",
    "    tf.keras.layers.Dense(hidden_layer_size,activation='relu'),\n",
    "    tf.keras.layers.Dense(output_size,activation='softmax')\n",
    "])\n",
    "\n",
    "model.compile(optimizer='adam',loss='sparse_categorical_crossentropy',metrics=['accuracy'])\n",
    "\n",
    "batch_size=100\n",
    "max_epochs=100\n",
    "\n",
    "patience=2\n",
    "early_stopping=tf.keras.callbacks.EarlyStopping(patience=patience)\n",
    "\n",
    "\n",
    "model.fit(train_data,\n",
    "          train_targets,\n",
    "          batch_size=batch_size,\n",
    "          epochs=max_epochs,\n",
    "          callbacks=[early_stopping],\n",
    "          validation_data=(validation_data,validation_targets),\n",
    "          verbose=2)"
   ]
  },
  {
   "cell_type": "markdown",
   "id": "f125a53c",
   "metadata": {},
   "source": [
    "### Test the Model"
   ]
  },
  {
   "cell_type": "code",
   "execution_count": 30,
   "id": "2b405654",
   "metadata": {},
   "outputs": [
    {
     "name": "stdout",
     "output_type": "stream",
     "text": [
      "14/14 [==============================] - 0s 1ms/step - loss: 0.3350 - accuracy: 0.8237\n",
      "0.33502674102783203 0.8236607313156128\n"
     ]
    }
   ],
   "source": [
    "test_loss,test_accuracy=model.evaluate(test_data,test_targets)\n",
    "print(test_loss,test_accuracy)"
   ]
  }
 ],
 "metadata": {
  "kernelspec": {
   "display_name": "Python 3 (ipykernel)",
   "language": "python",
   "name": "python3"
  },
  "language_info": {
   "codemirror_mode": {
    "name": "ipython",
    "version": 3
   },
   "file_extension": ".py",
   "mimetype": "text/x-python",
   "name": "python",
   "nbconvert_exporter": "python",
   "pygments_lexer": "ipython3",
   "version": "3.9.12"
  }
 },
 "nbformat": 4,
 "nbformat_minor": 5
}
