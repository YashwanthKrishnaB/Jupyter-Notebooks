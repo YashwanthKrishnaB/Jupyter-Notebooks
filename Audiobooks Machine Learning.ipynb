{
 "cells": [
  {
   "cell_type": "markdown",
   "id": "3f3d78df",
   "metadata": {},
   "source": [
    "# ML model for AudioBooks"
   ]
  },
  {
   "cell_type": "code",
   "execution_count": 2,
   "id": "87c1b18a",
   "metadata": {
    "scrolled": true
   },
   "outputs": [
    {
     "name": "stderr",
     "output_type": "stream",
     "text": [
      "2022-11-02 20:33:53.428605: W tensorflow/stream_executor/platform/default/dso_loader.cc:64] Could not load dynamic library 'libcudart.so.11.0'; dlerror: libcudart.so.11.0: cannot open shared object file: No such file or directory\n",
      "2022-11-02 20:33:53.428647: I tensorflow/stream_executor/cuda/cudart_stub.cc:29] Ignore above cudart dlerror if you do not have a GPU set up on your machine.\n",
      "2022-11-02 20:33:53.810314: E tensorflow/stream_executor/cuda/cuda_blas.cc:2981] Unable to register cuBLAS factory: Attempting to register factory for plugin cuBLAS when one has already been registered\n",
      "2022-11-02 20:34:00.868662: W tensorflow/stream_executor/platform/default/dso_loader.cc:64] Could not load dynamic library 'libnvinfer.so.7'; dlerror: libnvinfer.so.7: cannot open shared object file: No such file or directory\n",
      "2022-11-02 20:34:00.868793: W tensorflow/stream_executor/platform/default/dso_loader.cc:64] Could not load dynamic library 'libnvinfer_plugin.so.7'; dlerror: libnvinfer_plugin.so.7: cannot open shared object file: No such file or directory\n",
      "2022-11-02 20:34:00.868805: W tensorflow/compiler/tf2tensorrt/utils/py_utils.cc:38] TF-TRT Warning: Cannot dlopen some TensorRT libraries. If you would like to use Nvidia GPU with TensorRT, please make sure the missing libraries mentioned above are installed properly.\n"
     ]
    }
   ],
   "source": [
    "import numpy as np\n",
    "import tensorflow as tf"
   ]
  },
  {
   "cell_type": "code",
   "execution_count": 3,
   "id": "f97abe9a",
   "metadata": {},
   "outputs": [],
   "source": [
    "npz=np.load('Audiobooks_data_train.npz')\n",
    "\n",
    "train_data=npz['inputs'].astype(np.float64)\n",
    "train_targets=npz['targets'].astype(np.float64)\n",
    "\n",
    "npz=np.load('Audiobooks_data_validation.npz')\n",
    "\n",
    "validation_data,validation_targets=npz['inputs'].astype(np.float64),npz['targets'].astype(np.float64)\n",
    "\n",
    "npz=np.load('Audiobooks_data_test.npz')\n",
    "\n",
    "test_data,test_targets=npz['inputs'].astype(np.float64),npz['targets'].astype(np.float64)"
   ]
  },
  {
   "cell_type": "markdown",
   "id": "63620425",
   "metadata": {},
   "source": [
    "## Model"
   ]
  },
  {
   "cell_type": "code",
   "execution_count": 9,
   "id": "d32231f5",
   "metadata": {},
   "outputs": [
    {
     "name": "stdout",
     "output_type": "stream",
     "text": [
      "Epoch 1/100\n",
      "36/36 - 1s - loss: 0.5311 - accuracy: 0.7172 - val_loss: 0.4684 - val_accuracy: 0.7673 - 580ms/epoch - 16ms/step\n",
      "Epoch 2/100\n",
      "36/36 - 0s - loss: 0.4282 - accuracy: 0.7692 - val_loss: 0.4296 - val_accuracy: 0.7718 - 76ms/epoch - 2ms/step\n",
      "Epoch 3/100\n",
      "36/36 - 0s - loss: 0.4026 - accuracy: 0.7795 - val_loss: 0.4245 - val_accuracy: 0.7852 - 84ms/epoch - 2ms/step\n",
      "Epoch 4/100\n",
      "36/36 - 0s - loss: 0.3889 - accuracy: 0.7952 - val_loss: 0.4038 - val_accuracy: 0.8054 - 81ms/epoch - 2ms/step\n",
      "Epoch 5/100\n",
      "36/36 - 0s - loss: 0.3822 - accuracy: 0.7977 - val_loss: 0.4011 - val_accuracy: 0.8076 - 83ms/epoch - 2ms/step\n",
      "Epoch 6/100\n",
      "36/36 - 0s - loss: 0.3790 - accuracy: 0.7997 - val_loss: 0.4103 - val_accuracy: 0.7919 - 84ms/epoch - 2ms/step\n",
      "Epoch 7/100\n",
      "36/36 - 0s - loss: 0.3748 - accuracy: 0.7980 - val_loss: 0.3894 - val_accuracy: 0.7987 - 80ms/epoch - 2ms/step\n",
      "Epoch 8/100\n",
      "36/36 - 0s - loss: 0.3681 - accuracy: 0.7991 - val_loss: 0.3876 - val_accuracy: 0.8031 - 79ms/epoch - 2ms/step\n",
      "Epoch 9/100\n",
      "36/36 - 0s - loss: 0.3677 - accuracy: 0.8002 - val_loss: 0.3907 - val_accuracy: 0.7897 - 83ms/epoch - 2ms/step\n",
      "Epoch 10/100\n",
      "36/36 - 0s - loss: 0.3677 - accuracy: 0.7980 - val_loss: 0.3910 - val_accuracy: 0.7852 - 81ms/epoch - 2ms/step\n"
     ]
    },
    {
     "data": {
      "text/plain": [
       "<keras.callbacks.History at 0x7fc28cb77880>"
      ]
     },
     "execution_count": 9,
     "metadata": {},
     "output_type": "execute_result"
    }
   ],
   "source": [
    "input_size=10\n",
    "hidden_layer_size=100\n",
    "output_size=2\n",
    "\n",
    "model=tf.keras.Sequential([\n",
    "    tf.keras.layers.Dense(hidden_layer_size,activation='relu'),\n",
    "    tf.keras.layers.Dense(hidden_layer_size,activation='relu'),\n",
    "    tf.keras.layers.Dense(output_size,activation='softmax')\n",
    "])\n",
    "\n",
    "model.compile(optimizer='adam',loss='sparse_categorical_crossentropy',metrics=['accuracy'])\n",
    "\n",
    "batch_size=100\n",
    "max_epochs=100\n",
    "\n",
    "patience=2\n",
    "early_stopping=tf.keras.callbacks.EarlyStopping(patience=patience)\n",
    "\n",
    "\n",
    "model.fit(train_data,\n",
    "          train_targets,\n",
    "          batch_size=batch_size,\n",
    "          epochs=max_epochs,\n",
    "          callbacks=[early_stopping],\n",
    "          validation_data=(validation_data,validation_targets),\n",
    "          verbose=2)"
   ]
  },
  {
   "cell_type": "markdown",
   "id": "af6e7d73",
   "metadata": {},
   "source": [
    "### Test the Model"
   ]
  },
  {
   "cell_type": "code",
   "execution_count": 30,
   "id": "cbc44cd2",
   "metadata": {},
   "outputs": [
    {
     "name": "stdout",
     "output_type": "stream",
     "text": [
      "14/14 [==============================] - 0s 1ms/step - loss: 0.3350 - accuracy: 0.8237\n",
      "0.33502674102783203 0.8236607313156128\n"
     ]
    }
   ],
   "source": [
    "test_loss,test_accuracy=model.evaluate(test_data,test_targets)\n",
    "print(test_loss,test_accuracy)"
   ]
  }
 ],
 "metadata": {
  "kernelspec": {
   "display_name": "Python 3 (ipykernel)",
   "language": "python",
   "name": "python3"
  },
  "language_info": {
   "codemirror_mode": {
    "name": "ipython",
    "version": 3
   },
   "file_extension": ".py",
   "mimetype": "text/x-python",
   "name": "python",
   "nbconvert_exporter": "python",
   "pygments_lexer": "ipython3",
   "version": "3.9.12"
  }
 },
 "nbformat": 4,
 "nbformat_minor": 5
}
