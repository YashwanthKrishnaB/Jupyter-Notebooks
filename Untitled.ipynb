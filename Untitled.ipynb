{
 "cells": [
  {
   "cell_type": "code",
   "execution_count": 11,
   "id": "ad76a863",
   "metadata": {},
   "outputs": [
    {
     "name": "stdout",
     "output_type": "stream",
     "text": [
      "WARNING:tensorflow:From /home/crash/anaconda3/lib/python3.9/site-packages/tensorflow/python/compat/v2_compat.py:107: disable_resource_variables (from tensorflow.python.ops.variable_scope) is deprecated and will be removed in a future version.\n",
      "Instructions for updating:\n",
      "non-resource variables are not supported in the long term\n"
     ]
    }
   ],
   "source": [
    "import numpy as np\n",
    "import matplotlib.pyplot as plt\n",
    "    import tensorflow.compat.v1 as tf\n",
    "    tf.disable_v2_behavior()"
   ]
  },
  {
   "cell_type": "markdown",
   "id": "27a1f7dd",
   "metadata": {},
   "source": [
    "### Data Generation"
   ]
  },
  {
   "cell_type": "code",
   "execution_count": 24,
   "id": "7d763166",
   "metadata": {},
   "outputs": [],
   "source": [
    "# First, we should declare a variable containing the size of the training set we want to generate.\n",
    "observations = 1000\n",
    "\n",
    "# We will work with two variables as inputs. You can think about them as x1 and x2 in our previous examples.\n",
    "# We have picked x and z, since it is easier to differentiate them.\n",
    "# We generate them randomly, drawing from an uniform distribution. There are 3 arguments of this method (low, high, size).\n",
    "# The size of xs and zs is observations x 1. In this case: 1000 x 1.\n",
    "xs = np.random.uniform(low=-10, high=10, size=(observations,1))\n",
    "zs = np.random.uniform(-10, 10, (observations,1))\n",
    "\n",
    "# Combine the two dimensions of the input into one input matrix. \n",
    "# This is the X matrix from the linear model y = x*w + b.\n",
    "# column_stack is a Numpy method, which combines two matrices (vectors) into one.\n",
    "generated_inputs = np.column_stack((xs,zs))\n",
    "\n",
    "# We add a random small noise to the function i.e. f(x,z) = 2x - 3z + 5 + <small noise>\n",
    "noise = np.random.uniform(-1, 1, (observations,1))\n",
    "\n",
    "# Produce the targets according to our f(x,z) = 2x - 3z + 5 + noise definition.\n",
    "# In this way, we are basically saying: the weights should be 2 and -3, while the bias is 5.\n",
    "generated_targets = 2*xs - 3*zs + 5 + noise\n",
    "\n",
    "# save into an npz file called \"TF_intro\"\n",
    "np.savez('TF_intro', inputs=generated_inputs, targets=generated_targets)"
   ]
  },
  {
   "cell_type": "code",
   "execution_count": 25,
   "id": "85ed9afb",
   "metadata": {},
   "outputs": [],
   "source": [
    "input_size=2;\n",
    "output_size=1;"
   ]
  },
  {
   "cell_type": "code",
   "execution_count": 27,
   "id": "e12b81f1",
   "metadata": {},
   "outputs": [],
   "source": [
    "inputs=tf.placeholder(tf.float32,[None,input_size])\n",
    "targets=tf.placeholder(tf.float32,[None,output_size])\n",
    "\n",
    "weights=tf.Variable(tf.random_uniform([input_size,output_size],minval=-1,maxval=1))\n",
    "biases=tf.Variable(tf.random_uniform([output_size],minval=-1,maxval=1))\n",
    " \n",
    "outputs=tf.matmul(inputs,weights)+biases"
   ]
  },
  {
   "cell_type": "code",
   "execution_count": 38,
   "id": "8a5840ae",
   "metadata": {},
   "outputs": [],
   "source": [
    "mean_loss=tf.losses.mean_squared_error(labels=targets,predictions=outputs) / 2.\n",
    "\n",
    "optimize=tf.train.GradientDescentOptimizer(learning_rate=0.05).minimize(mean_loss)"
   ]
  },
  {
   "cell_type": "code",
   "execution_count": 33,
   "id": "665b535f",
   "metadata": {},
   "outputs": [
    {
     "name": "stderr",
     "output_type": "stream",
     "text": [
      "2022-11-08 19:39:52.093945: W tensorflow/stream_executor/platform/default/dso_loader.cc:64] Could not load dynamic library 'libcuda.so.1'; dlerror: libcuda.so.1: cannot open shared object file: No such file or directory\n",
      "2022-11-08 19:39:52.094000: W tensorflow/stream_executor/cuda/cuda_driver.cc:263] failed call to cuInit: UNKNOWN ERROR (303)\n",
      "2022-11-08 19:39:52.111964: I tensorflow/stream_executor/cuda/cuda_diagnostics.cc:156] kernel driver does not appear to be running on this host (MyPlace): /proc/driver/nvidia/version does not exist\n"
     ]
    }
   ],
   "source": [
    "sess = tf.InteractiveSession()"
   ]
  },
  {
   "cell_type": "code",
   "execution_count": 34,
   "id": "0ba81dc9",
   "metadata": {},
   "outputs": [
    {
     "name": "stderr",
     "output_type": "stream",
     "text": [
      "2022-11-08 19:39:52.382926: I tensorflow/compiler/mlir/mlir_graph_optimization_pass.cc:354] MLIR V1 optimization pass is not enabled\n"
     ]
    }
   ],
   "source": [
    "initializer=tf.global_variables_initializer()\n",
    "\n",
    "sess.run(initializer)"
   ]
  },
  {
   "cell_type": "code",
   "execution_count": 35,
   "id": "bfc471e2",
   "metadata": {},
   "outputs": [],
   "source": [
    "training_data=np.load('tf_intro.npz')"
   ]
  },
  {
   "cell_type": "code",
   "execution_count": 39,
   "id": "e9d88144",
   "metadata": {},
   "outputs": [
    {
     "name": "stdout",
     "output_type": "stream",
     "text": [
      "215.35532\n",
      "98.34333\n",
      "48.02677\n",
      "25.899456\n",
      "15.798831\n",
      "10.906603\n",
      "8.324068\n",
      "6.8042374\n",
      "5.800968\n",
      "5.068622\n",
      "4.4923863\n",
      "4.015686\n",
      "3.6086817\n",
      "3.254332\n",
      "2.9420402\n",
      "2.66467\n",
      "2.4170647\n",
      "2.195281\n",
      "1.99617\n",
      "1.8171294\n",
      "1.6559588\n",
      "1.5107636\n",
      "1.3798887\n",
      "1.2618773\n",
      "1.1554369\n",
      "1.0594131\n",
      "0.97277683\n",
      "0.8946011\n",
      "0.8240564\n",
      "0.7603935\n",
      "0.7029401\n",
      "0.65108883\n",
      "0.604293\n",
      "0.5620587\n",
      "0.5239413\n",
      "0.48953936\n",
      "0.45849073\n",
      "0.43046784\n",
      "0.40517607\n",
      "0.38234892\n",
      "0.361747\n",
      "0.3431532\n",
      "0.32637104\n",
      "0.31122455\n",
      "0.2975544\n",
      "0.28521612\n",
      "0.27408063\n",
      "0.26403016\n",
      "0.2549592\n",
      "0.2467723\n",
      "0.23938352\n",
      "0.23271479\n",
      "0.22669578\n",
      "0.22126348\n",
      "0.21636054\n",
      "0.21193549\n",
      "0.2079418\n",
      "0.20433716\n",
      "0.20108378\n",
      "0.19814746\n",
      "0.19549735\n",
      "0.19310556\n",
      "0.1909468\n",
      "0.18899848\n",
      "0.18724005\n",
      "0.18565299\n",
      "0.18422055\n",
      "0.18292783\n",
      "0.181761\n",
      "0.18070796\n",
      "0.17975754\n",
      "0.17889966\n",
      "0.17812543\n",
      "0.17742664\n",
      "0.17679599\n",
      "0.1762268\n",
      "0.1757131\n",
      "0.17524938\n",
      "0.17483091\n",
      "0.1744532\n",
      "0.17411232\n",
      "0.17380464\n",
      "0.17352699\n",
      "0.17327636\n",
      "0.1730501\n",
      "0.172846\n",
      "0.17266174\n",
      "0.17249547\n",
      "0.17234533\n",
      "0.17220989\n",
      "0.17208761\n",
      "0.17197727\n",
      "0.1718777\n",
      "0.17178781\n",
      "0.17170666\n",
      "0.17163345\n",
      "0.17156735\n",
      "0.17150767\n",
      "0.17145388\n",
      "0.17140527\n"
     ]
    }
   ],
   "source": [
    "for e in range(100):\n",
    "    _, curr_loss = sess.run([optimize,mean_loss],\n",
    "                           feed_dict={inputs:training_data['inputs'],targets:training_data['targets']})\n",
    "    print(curr_loss)"
   ]
  },
  {
   "cell_type": "code",
   "execution_count": 40,
   "id": "7b28e9a6",
   "metadata": {},
   "outputs": [],
   "source": [
    "out=sess.run([outputs],feed_dict={inputs:training_data['inputs']})"
   ]
  },
  {
   "cell_type": "code",
   "execution_count": 42,
   "id": "d7e2e2e6",
   "metadata": {},
   "outputs": [
    {
     "data": {
      "text/plain": [
       "[<matplotlib.lines.Line2D at 0x7f3f9084ddf0>]"
      ]
     },
     "execution_count": 42,
     "metadata": {},
     "output_type": "execute_result"
    },
    {
     "data": {
      "image/png": "[encoded data removed]",
      "text/plain": [
       "<Figure size 432x288 with 1 Axes>"
      ]
     },
     "metadata": {
      "needs_background": "light"
     },
     "output_type": "display_data"
    }
   ],
   "source": [
    "plt.plot(np.squeeze(out),np.squeeze(training_data['targets']))"
   ]
  }
 ],
 "metadata": {
  "kernelspec": {
   "display_name": "Python 3 (ipykernel)",
   "language": "python",
   "name": "python3"
  },
  "language_info": {
   "codemirror_mode": {
    "name": "ipython",
    "version": 3
   },
   "file_extension": ".py",
   "mimetype": "text/x-python",
   "name": "python",
   "nbconvert_exporter": "python",
   "pygments_lexer": "ipython3",
   "version": "3.9.12"
  }
 },
 "nbformat": 4,
 "nbformat_minor": 5
}
